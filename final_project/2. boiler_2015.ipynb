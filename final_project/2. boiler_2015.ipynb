{
 "cells": [
  {
   "cell_type": "code",
   "execution_count": 1,
   "metadata": {},
   "outputs": [],
   "source": [
    "from __future__ import print_function, division\n",
    "%matplotlib inline\n",
    "import statsmodels.formula.api as smf  \n",
    "import matplotlib.pyplot as plt\n",
    "import matplotlib\n",
    "import pandas as pd\n",
    "import numpy as np\n",
    "import geopandas as gpd\n",
    "import os\n",
    "import operator\n",
    "import requests\n",
    "import sys\n",
    "import operator\n",
    "from scipy import stats\n",
    "from fiona.crs import from_epsg"
   ]
  },
  {
   "cell_type": "code",
   "execution_count": 2,
   "metadata": {},
   "outputs": [],
   "source": [
    "matplotlib.style.use('seaborn-pastel')\n",
    "matplotlib.rcParams['font.size'] = 12\n",
    "matplotlib.rcParams['figure.figsize'] = (12,10)"
   ]
  },
  {
   "cell_type": "code",
   "execution_count": 3,
   "metadata": {},
   "outputs": [
    {
     "data": {
      "text/html": [
       "<div>\n",
       "<style scoped>\n",
       "    .dataframe tbody tr th:only-of-type {\n",
       "        vertical-align: middle;\n",
       "    }\n",
       "\n",
       "    .dataframe tbody tr th {\n",
       "        vertical-align: top;\n",
       "    }\n",
       "\n",
       "    .dataframe thead th {\n",
       "        text-align: right;\n",
       "    }\n",
       "</style>\n",
       "<table border=\"1\" class=\"dataframe\">\n",
       "  <thead>\n",
       "    <tr style=\"text-align: right;\">\n",
       "      <th></th>\n",
       "      <th>BBL (Borough, Block and Lot)</th>\n",
       "      <th>Facility Address</th>\n",
       "      <th>Borough</th>\n",
       "      <th>Postcode</th>\n",
       "      <th>Latitude</th>\n",
       "      <th>Longitude</th>\n",
       "      <th>Community Board</th>\n",
       "      <th>Council District</th>\n",
       "      <th>Census Tract</th>\n",
       "      <th>BIN</th>\n",
       "      <th>...</th>\n",
       "      <th>Building Type</th>\n",
       "      <th>City Council District</th>\n",
       "      <th>Total area of buildings on lot</th>\n",
       "      <th>Number of buildings on property (tax lot)</th>\n",
       "      <th>Number of floors</th>\n",
       "      <th>Number of residential units</th>\n",
       "      <th>Number of total units</th>\n",
       "      <th>Year constructed</th>\n",
       "      <th>Condominium housing?</th>\n",
       "      <th>Cooperative housing?</th>\n",
       "    </tr>\n",
       "  </thead>\n",
       "  <tbody>\n",
       "    <tr>\n",
       "      <th>0</th>\n",
       "      <td>1007910062</td>\n",
       "      <td>130 16 STREET\\nManhattan, NY 10011\\n(40.739041...</td>\n",
       "      <td>1</td>\n",
       "      <td>NaN</td>\n",
       "      <td>NaN</td>\n",
       "      <td>NaN</td>\n",
       "      <td>NaN</td>\n",
       "      <td>NaN</td>\n",
       "      <td>NaN</td>\n",
       "      <td>NaN</td>\n",
       "      <td>...</td>\n",
       "      <td>Office Buildings</td>\n",
       "      <td>3</td>\n",
       "      <td>32384</td>\n",
       "      <td>1</td>\n",
       "      <td>6</td>\n",
       "      <td>42</td>\n",
       "      <td>42</td>\n",
       "      <td>1927</td>\n",
       "      <td></td>\n",
       "      <td></td>\n",
       "    </tr>\n",
       "    <tr>\n",
       "      <th>1</th>\n",
       "      <td>1012440072</td>\n",
       "      <td>441 END AVENUE\\nManhattan, NY 10024\\n(40.78362...</td>\n",
       "      <td>1</td>\n",
       "      <td>NaN</td>\n",
       "      <td>NaN</td>\n",
       "      <td>NaN</td>\n",
       "      <td>NaN</td>\n",
       "      <td>NaN</td>\n",
       "      <td>NaN</td>\n",
       "      <td>NaN</td>\n",
       "      <td>...</td>\n",
       "      <td>Elevator Apartments</td>\n",
       "      <td>6</td>\n",
       "      <td>240040</td>\n",
       "      <td>2</td>\n",
       "      <td>15</td>\n",
       "      <td>87</td>\n",
       "      <td>103</td>\n",
       "      <td>1926</td>\n",
       "      <td></td>\n",
       "      <td></td>\n",
       "    </tr>\n",
       "    <tr>\n",
       "      <th>2</th>\n",
       "      <td>2025080024</td>\n",
       "      <td>64 165 STREET\\nBronx, NY 10452\\n(40.8318680928...</td>\n",
       "      <td>2</td>\n",
       "      <td>NaN</td>\n",
       "      <td>NaN</td>\n",
       "      <td>NaN</td>\n",
       "      <td>NaN</td>\n",
       "      <td>NaN</td>\n",
       "      <td>NaN</td>\n",
       "      <td>NaN</td>\n",
       "      <td>...</td>\n",
       "      <td>Elevator Apartments</td>\n",
       "      <td>17</td>\n",
       "      <td>21460</td>\n",
       "      <td>1</td>\n",
       "      <td>5</td>\n",
       "      <td>30</td>\n",
       "      <td>33</td>\n",
       "      <td>1925</td>\n",
       "      <td></td>\n",
       "      <td></td>\n",
       "    </tr>\n",
       "    <tr>\n",
       "      <th>3</th>\n",
       "      <td>2029900034</td>\n",
       "      <td>1693 VYSE AVENUE\\nBronx, NY 10460\\n(40.8356790...</td>\n",
       "      <td>2</td>\n",
       "      <td>10460.0</td>\n",
       "      <td>40.835731</td>\n",
       "      <td>-73.886595</td>\n",
       "      <td>3.0</td>\n",
       "      <td>17.0</td>\n",
       "      <td>161.0</td>\n",
       "      <td>2010678.0</td>\n",
       "      <td>...</td>\n",
       "      <td>Loft Buildings</td>\n",
       "      <td>15</td>\n",
       "      <td>23750</td>\n",
       "      <td>1</td>\n",
       "      <td>5</td>\n",
       "      <td>26</td>\n",
       "      <td>26</td>\n",
       "      <td>1931</td>\n",
       "      <td></td>\n",
       "      <td></td>\n",
       "    </tr>\n",
       "    <tr>\n",
       "      <th>4</th>\n",
       "      <td>2024720028</td>\n",
       "      <td>1049 GRAND\\nBronx, NY 10452\\n(40.8377242633641...</td>\n",
       "      <td>2</td>\n",
       "      <td>NaN</td>\n",
       "      <td>NaN</td>\n",
       "      <td>NaN</td>\n",
       "      <td>NaN</td>\n",
       "      <td>NaN</td>\n",
       "      <td>NaN</td>\n",
       "      <td>NaN</td>\n",
       "      <td>...</td>\n",
       "      <td>Elevator Apartments</td>\n",
       "      <td>16</td>\n",
       "      <td>29400</td>\n",
       "      <td>1</td>\n",
       "      <td>5</td>\n",
       "      <td>36</td>\n",
       "      <td>37</td>\n",
       "      <td>1917</td>\n",
       "      <td></td>\n",
       "      <td></td>\n",
       "    </tr>\n",
       "  </tbody>\n",
       "</table>\n",
       "<p>5 rows × 42 columns</p>\n",
       "</div>"
      ],
      "text/plain": [
       "   BBL (Borough, Block and Lot)  \\\n",
       "0                    1007910062   \n",
       "1                    1012440072   \n",
       "2                    2025080024   \n",
       "3                    2029900034   \n",
       "4                    2024720028   \n",
       "\n",
       "                                    Facility Address  Borough  Postcode  \\\n",
       "0  130 16 STREET\\nManhattan, NY 10011\\n(40.739041...        1       NaN   \n",
       "1  441 END AVENUE\\nManhattan, NY 10024\\n(40.78362...        1       NaN   \n",
       "2  64 165 STREET\\nBronx, NY 10452\\n(40.8318680928...        2       NaN   \n",
       "3  1693 VYSE AVENUE\\nBronx, NY 10460\\n(40.8356790...        2   10460.0   \n",
       "4  1049 GRAND\\nBronx, NY 10452\\n(40.8377242633641...        2       NaN   \n",
       "\n",
       "    Latitude  Longitude  Community Board  Council District  Census Tract  \\\n",
       "0        NaN        NaN              NaN               NaN           NaN   \n",
       "1        NaN        NaN              NaN               NaN           NaN   \n",
       "2        NaN        NaN              NaN               NaN           NaN   \n",
       "3  40.835731 -73.886595              3.0              17.0         161.0   \n",
       "4        NaN        NaN              NaN               NaN           NaN   \n",
       "\n",
       "         BIN          ...                 Building Type City Council District  \\\n",
       "0        NaN          ...              Office Buildings                     3   \n",
       "1        NaN          ...           Elevator Apartments                     6   \n",
       "2        NaN          ...           Elevator Apartments                    17   \n",
       "3  2010678.0          ...                Loft Buildings                    15   \n",
       "4        NaN          ...           Elevator Apartments                    16   \n",
       "\n",
       "  Total area of buildings on lot Number of buildings on property (tax lot)  \\\n",
       "0                          32384                                         1   \n",
       "1                         240040                                         2   \n",
       "2                          21460                                         1   \n",
       "3                          23750                                         1   \n",
       "4                          29400                                         1   \n",
       "\n",
       "  Number of floors Number of residential units  Number of total units  \\\n",
       "0                6                          42                     42   \n",
       "1               15                          87                    103   \n",
       "2                5                          30                     33   \n",
       "3                5                          26                     26   \n",
       "4                5                          36                     37   \n",
       "\n",
       "  Year constructed  Condominium housing?  Cooperative housing?  \n",
       "0             1927                                              \n",
       "1             1926                                              \n",
       "2             1925                                              \n",
       "3             1931                                              \n",
       "4             1917                                              \n",
       "\n",
       "[5 rows x 42 columns]"
      ]
     },
     "execution_count": 3,
     "metadata": {},
     "output_type": "execute_result"
    }
   ],
   "source": [
    "os.system(\"curl -O https://data.cityofnewyork.us/api/views/jfzu-yy6n/rows.csv\")\n",
    "os.system(\"mv \" + \"rows.csv \" + os.getenv(\"PUIDATA\"))\n",
    "df = pd.read_csv(os.getenv(\"PUIDATA\") + \"/\" + \"rows.csv\")\n",
    "df.head()"
   ]
  },
  {
   "cell_type": "code",
   "execution_count": 4,
   "metadata": {},
   "outputs": [
    {
     "data": {
      "text/plain": [
       "Index(['BBL (Borough, Block and Lot)', 'Facility Address', 'Borough',\n",
       "       'Postcode', 'Latitude', 'Longitude', 'Community Board',\n",
       "       'Council District', 'Census Tract', 'BIN', 'NTA',\n",
       "       'Natural Gas Utility (Con Edison or National Grid', 'Building Manager',\n",
       "       'Owner', 'Owner Address', 'DEP Boiler Application #',\n",
       "       'Deadline for phasing out #6 oil (i.e. data of next DEP permit renewal after July 1 2012)',\n",
       "       'Boiler Model', 'Number of identical boilers',\n",
       "       'Boiler capacity (Gross BTU)', 'Boiler Installation Date',\n",
       "       'Estimated retirement date of boiler (assuming 35 year average useful life)',\n",
       "       'Is boiler dual fuel capable?', 'Age range of boiler', 'Burner Model',\n",
       "       'Primary Fuel', 'Total Estimated Cosumption - High Estimate (Gallons) ',\n",
       "       'Total Estimated Cosumption - Low Estimate (Gallons) ',\n",
       "       'Total Estimated Cosumption - High Estimate (MMBTUs) ',\n",
       "       'Total Estimated Cosumption - Low Estimate  (MMBTUs) ',\n",
       "       'Needs to comply with Greener Greater Buildings Laws?',\n",
       "       'Deadline for complying with Audit and Retrocommissioning Law',\n",
       "       'Building Type', 'City Council District',\n",
       "       'Total area of buildings on lot',\n",
       "       'Number of buildings on property (tax lot)', 'Number of floors',\n",
       "       'Number of residential units', 'Number of total units',\n",
       "       'Year constructed', 'Condominium housing?', 'Cooperative housing?'],\n",
       "      dtype='object')"
      ]
     },
     "execution_count": 4,
     "metadata": {},
     "output_type": "execute_result"
    }
   ],
   "source": [
    "df.columns"
   ]
  },
  {
   "cell_type": "code",
   "execution_count": 5,
   "metadata": {},
   "outputs": [
    {
     "data": {
      "text/html": [
       "<div>\n",
       "<style scoped>\n",
       "    .dataframe tbody tr th:only-of-type {\n",
       "        vertical-align: middle;\n",
       "    }\n",
       "\n",
       "    .dataframe tbody tr th {\n",
       "        vertical-align: top;\n",
       "    }\n",
       "\n",
       "    .dataframe thead th {\n",
       "        text-align: right;\n",
       "    }\n",
       "</style>\n",
       "<table border=\"1\" class=\"dataframe\">\n",
       "  <thead>\n",
       "    <tr style=\"text-align: right;\">\n",
       "      <th></th>\n",
       "      <th>Facility Address</th>\n",
       "      <th>Postcode</th>\n",
       "      <th>Latitude</th>\n",
       "      <th>Longitude</th>\n",
       "      <th>Boiler Installation Date</th>\n",
       "      <th>Total Estimated Cosumption - High Estimate (Gallons)</th>\n",
       "    </tr>\n",
       "  </thead>\n",
       "  <tbody>\n",
       "    <tr>\n",
       "      <th>0</th>\n",
       "      <td>130 16 STREET\\nManhattan, NY 10011\\n(40.739041...</td>\n",
       "      <td>NaN</td>\n",
       "      <td>NaN</td>\n",
       "      <td>NaN</td>\n",
       "      <td>1979</td>\n",
       "      <td>32016</td>\n",
       "    </tr>\n",
       "    <tr>\n",
       "      <th>1</th>\n",
       "      <td>441 END AVENUE\\nManhattan, NY 10024\\n(40.78362...</td>\n",
       "      <td>NaN</td>\n",
       "      <td>NaN</td>\n",
       "      <td>NaN</td>\n",
       "      <td>1983</td>\n",
       "      <td>146000</td>\n",
       "    </tr>\n",
       "    <tr>\n",
       "      <th>2</th>\n",
       "      <td>64 165 STREET\\nBronx, NY 10452\\n(40.8318680928...</td>\n",
       "      <td>NaN</td>\n",
       "      <td>NaN</td>\n",
       "      <td>NaN</td>\n",
       "      <td>1956</td>\n",
       "      <td>30814</td>\n",
       "    </tr>\n",
       "    <tr>\n",
       "      <th>3</th>\n",
       "      <td>1693 VYSE AVENUE\\nBronx, NY 10460\\n(40.8356790...</td>\n",
       "      <td>10460.0</td>\n",
       "      <td>40.835731</td>\n",
       "      <td>-73.886595</td>\n",
       "      <td>1983</td>\n",
       "      <td>25309</td>\n",
       "    </tr>\n",
       "    <tr>\n",
       "      <th>4</th>\n",
       "      <td>1049 GRAND\\nBronx, NY 10452\\n(40.8377242633641...</td>\n",
       "      <td>NaN</td>\n",
       "      <td>NaN</td>\n",
       "      <td>NaN</td>\n",
       "      <td>1988</td>\n",
       "      <td>25000</td>\n",
       "    </tr>\n",
       "  </tbody>\n",
       "</table>\n",
       "</div>"
      ],
      "text/plain": [
       "                                    Facility Address  Postcode   Latitude  \\\n",
       "0  130 16 STREET\\nManhattan, NY 10011\\n(40.739041...       NaN        NaN   \n",
       "1  441 END AVENUE\\nManhattan, NY 10024\\n(40.78362...       NaN        NaN   \n",
       "2  64 165 STREET\\nBronx, NY 10452\\n(40.8318680928...       NaN        NaN   \n",
       "3  1693 VYSE AVENUE\\nBronx, NY 10460\\n(40.8356790...   10460.0  40.835731   \n",
       "4  1049 GRAND\\nBronx, NY 10452\\n(40.8377242633641...       NaN        NaN   \n",
       "\n",
       "   Longitude  Boiler Installation Date  \\\n",
       "0        NaN                      1979   \n",
       "1        NaN                      1983   \n",
       "2        NaN                      1956   \n",
       "3 -73.886595                      1983   \n",
       "4        NaN                      1988   \n",
       "\n",
       "   Total Estimated Cosumption - High Estimate (Gallons)   \n",
       "0                                              32016      \n",
       "1                                             146000      \n",
       "2                                              30814      \n",
       "3                                              25309      \n",
       "4                                              25000      "
      ]
     },
     "execution_count": 5,
     "metadata": {},
     "output_type": "execute_result"
    }
   ],
   "source": [
    "df.drop(['BBL (Borough, Block and Lot)', 'Borough', 'Community Board',\n",
    "       'Council District', 'Census Tract', 'BIN', 'NTA',\n",
    "       'Natural Gas Utility (Con Edison or National Grid', 'Building Manager',\n",
    "       'Owner', 'Owner Address', 'DEP Boiler Application #',\n",
    "       'Deadline for phasing out #6 oil (i.e. data of next DEP permit renewal after July 1 2012)',\n",
    "       'Boiler Model', 'Number of identical boilers',\n",
    "       'Boiler capacity (Gross BTU)', \n",
    "       'Estimated retirement date of boiler (assuming 35 year average useful life)',\n",
    "       'Is boiler dual fuel capable?', 'Age range of boiler', 'Burner Model',\n",
    "       'Primary Fuel',\n",
    "       'Total Estimated Cosumption - Low Estimate (Gallons) ',\n",
    "       'Total Estimated Cosumption - High Estimate (MMBTUs) ',\n",
    "       'Total Estimated Cosumption - Low Estimate  (MMBTUs) ',\n",
    "       'Needs to comply with Greener Greater Buildings Laws?',\n",
    "       'Deadline for complying with Audit and Retrocommissioning Law',\n",
    "       'Building Type', 'City Council District',\n",
    "       'Total area of buildings on lot',\n",
    "       'Number of buildings on property (tax lot)', 'Number of floors',\n",
    "       'Number of residential units', 'Number of total units',\n",
    "       'Year constructed', 'Condominium housing?', 'Cooperative housing?'], axis=1, inplace=True)\n",
    "df.head()"
   ]
  },
  {
   "cell_type": "code",
   "execution_count": 6,
   "metadata": {},
   "outputs": [
    {
     "data": {
      "text/plain": [
       "'130 16 STREET\\nManhattan, NY 10011\\n(40.739041337693116, -73.99679142282815)'"
      ]
     },
     "execution_count": 6,
     "metadata": {},
     "output_type": "execute_result"
    }
   ],
   "source": [
    "a = df['Facility Address'][0]\n",
    "a"
   ]
  },
  {
   "cell_type": "code",
   "execution_count": 7,
   "metadata": {},
   "outputs": [],
   "source": [
    "df = df.dropna(subset=['Facility Address'], how='any')"
   ]
  },
  {
   "cell_type": "code",
   "execution_count": 8,
   "metadata": {},
   "outputs": [],
   "source": [
    "df.reset_index(inplace=True)"
   ]
  },
  {
   "cell_type": "code",
   "execution_count": 9,
   "metadata": {},
   "outputs": [],
   "source": [
    "zip_code = []\n",
    "for i in range(len(df)):\n",
    "    zip_code.append(df['Facility Address'][i].split('\\n')[1].split()[-1][:5])"
   ]
  },
  {
   "cell_type": "code",
   "execution_count": 10,
   "metadata": {},
   "outputs": [],
   "source": [
    "zip_code = np.asarray(zip_code, dtype=str)"
   ]
  },
  {
   "cell_type": "code",
   "execution_count": 11,
   "metadata": {},
   "outputs": [],
   "source": [
    "total_consumption_gallons = df['Total Estimated Cosumption - High Estimate (Gallons) ']\n",
    "boiler_installation_date = df['Boiler Installation Date']"
   ]
  },
  {
   "cell_type": "code",
   "execution_count": 12,
   "metadata": {},
   "outputs": [
    {
     "data": {
      "text/html": [
       "<div>\n",
       "<style scoped>\n",
       "    .dataframe tbody tr th:only-of-type {\n",
       "        vertical-align: middle;\n",
       "    }\n",
       "\n",
       "    .dataframe tbody tr th {\n",
       "        vertical-align: top;\n",
       "    }\n",
       "\n",
       "    .dataframe thead th {\n",
       "        text-align: right;\n",
       "    }\n",
       "</style>\n",
       "<table border=\"1\" class=\"dataframe\">\n",
       "  <thead>\n",
       "    <tr style=\"text-align: right;\">\n",
       "      <th></th>\n",
       "      <th>zip_code</th>\n",
       "      <th>total_consumption_gallons</th>\n",
       "      <th>boiler_installation_date</th>\n",
       "    </tr>\n",
       "  </thead>\n",
       "  <tbody>\n",
       "    <tr>\n",
       "      <th>0</th>\n",
       "      <td>10011</td>\n",
       "      <td>32016</td>\n",
       "      <td>1979</td>\n",
       "    </tr>\n",
       "    <tr>\n",
       "      <th>1</th>\n",
       "      <td>10024</td>\n",
       "      <td>146000</td>\n",
       "      <td>1983</td>\n",
       "    </tr>\n",
       "    <tr>\n",
       "      <th>2</th>\n",
       "      <td>10452</td>\n",
       "      <td>30814</td>\n",
       "      <td>1956</td>\n",
       "    </tr>\n",
       "    <tr>\n",
       "      <th>3</th>\n",
       "      <td>10460</td>\n",
       "      <td>25309</td>\n",
       "      <td>1983</td>\n",
       "    </tr>\n",
       "    <tr>\n",
       "      <th>4</th>\n",
       "      <td>10452</td>\n",
       "      <td>25000</td>\n",
       "      <td>1988</td>\n",
       "    </tr>\n",
       "  </tbody>\n",
       "</table>\n",
       "</div>"
      ],
      "text/plain": [
       "  zip_code total_consumption_gallons boiler_installation_date\n",
       "0    10011                     32016                     1979\n",
       "1    10024                    146000                     1983\n",
       "2    10452                     30814                     1956\n",
       "3    10460                     25309                     1983\n",
       "4    10452                     25000                     1988"
      ]
     },
     "execution_count": 12,
     "metadata": {},
     "output_type": "execute_result"
    }
   ],
   "source": [
    "df = pd.DataFrame(data=[zip_code, total_consumption_gallons, boiler_installation_date]).T\n",
    "df.columns = [ 'zip_code', 'total_consumption_gallons', 'boiler_installation_date']\n",
    "df.head()"
   ]
  },
  {
   "cell_type": "raw",
   "metadata": {},
   "source": [
    "#nyc open data API, you need apptoken to run this cell\n",
    "from sodapy import Socrata\n",
    "client = Socrata(\"data.cityofnewyork.us\", os.getenv(\"apptoken\"))"
   ]
  },
  {
   "cell_type": "raw",
   "metadata": {},
   "source": [
    "results = client.get(\"rjkj-7qni\",\n",
    "                     select = \"facility_address, postcode, boiler_installation_date, total_estimated_cosumption_high_estimate_gallons_, latitude, longitude\",\n",
    "                     limit=20000)\n",
    "df = pd.DataFrame.from_records(results)\n",
    "df.head()"
   ]
  },
  {
   "cell_type": "raw",
   "metadata": {},
   "source": [
    "df['facility_address'][0]"
   ]
  },
  {
   "cell_type": "code",
   "execution_count": 13,
   "metadata": {},
   "outputs": [
    {
     "data": {
      "text/plain": [
       "(8045, 3)"
      ]
     },
     "execution_count": 13,
     "metadata": {},
     "output_type": "execute_result"
    }
   ],
   "source": [
    "df.shape"
   ]
  },
  {
   "cell_type": "code",
   "execution_count": 14,
   "metadata": {},
   "outputs": [],
   "source": [
    "df['boiler_installation_date'] = pd.to_numeric(df['boiler_installation_date'], errors='coerce')\n",
    "df= df[df['boiler_installation_date']<2015]"
   ]
  },
  {
   "cell_type": "code",
   "execution_count": 15,
   "metadata": {},
   "outputs": [
    {
     "data": {
      "text/plain": [
       "zip_code                     8045\n",
       "total_consumption_gallons    8045\n",
       "boiler_installation_date     8045\n",
       "dtype: int64"
      ]
     },
     "execution_count": 15,
     "metadata": {},
     "output_type": "execute_result"
    }
   ],
   "source": [
    "df.count()"
   ]
  },
  {
   "cell_type": "code",
   "execution_count": 16,
   "metadata": {},
   "outputs": [
    {
     "data": {
      "text/plain": [
       "zip_code                     object\n",
       "total_consumption_gallons    object\n",
       "boiler_installation_date      int64\n",
       "dtype: object"
      ]
     },
     "execution_count": 16,
     "metadata": {},
     "output_type": "execute_result"
    }
   ],
   "source": [
    "df.dtypes"
   ]
  },
  {
   "cell_type": "raw",
   "metadata": {},
   "source": [
    "df.rename(columns={'boiler_capacity_gross_btu_': 'boiler_capacity',\n",
    "                      'postcode': 'zip_code',\n",
    "                      'total_estimated_cosumption_high_estimate_gallons_': 'total_consumption_gallons'}, inplace=True)"
   ]
  },
  {
   "cell_type": "code",
   "execution_count": 17,
   "metadata": {},
   "outputs": [],
   "source": [
    "df['total_consumption_gallons'] = pd.to_numeric(df['total_consumption_gallons'], errors='coerce')"
   ]
  },
  {
   "cell_type": "code",
   "execution_count": 18,
   "metadata": {},
   "outputs": [
    {
     "data": {
      "text/plain": [
       "zip_code                     object\n",
       "total_consumption_gallons     int64\n",
       "boiler_installation_date      int64\n",
       "dtype: object"
      ]
     },
     "execution_count": 18,
     "metadata": {},
     "output_type": "execute_result"
    }
   ],
   "source": [
    "df.dtypes"
   ]
  },
  {
   "cell_type": "code",
   "execution_count": 19,
   "metadata": {},
   "outputs": [],
   "source": [
    "df = df.dropna(subset=['zip_code'])"
   ]
  },
  {
   "cell_type": "code",
   "execution_count": 20,
   "metadata": {},
   "outputs": [
    {
     "data": {
      "text/plain": [
       "8045"
      ]
     },
     "execution_count": 20,
     "metadata": {},
     "output_type": "execute_result"
    }
   ],
   "source": [
    "len(df)"
   ]
  },
  {
   "cell_type": "code",
   "execution_count": 21,
   "metadata": {},
   "outputs": [
    {
     "data": {
      "image/png": "[encoded data removed]",
      "text/plain": [
       "<matplotlib.figure.Figure at 0x10df57390>"
      ]
     },
     "metadata": {},
     "output_type": "display_data"
    }
   ],
   "source": [
    "plt.hist(df['total_consumption_gallons'], bins=200)\n",
    "plt.show()"
   ]
  },
  {
   "cell_type": "code",
   "execution_count": 22,
   "metadata": {},
   "outputs": [
    {
     "data": {
      "image/png": "[encoded data removed]",
      "text/plain": [
       "<matplotlib.figure.Figure at 0x104ba7cc0>"
      ]
     },
     "metadata": {},
     "output_type": "display_data"
    },
    {
     "name": "stdout",
     "output_type": "stream",
     "text": [
      "Estimated total consumption by the oil boilers in 2015. The distribution skewed right.\n"
     ]
    }
   ],
   "source": [
    "df = df[df['total_consumption_gallons']>0]\n",
    "df = df[df['total_consumption_gallons']<400000]\n",
    "\n",
    "fig = plt.figure(figsize=(12,8))\n",
    "plt.hist(df['total_consumption_gallons'], bins=200)\n",
    "plt.title('Oil boilers', fontsize = 20)\n",
    "plt.xlabel('Estimated total consumption (gallons)', fontsize = 18)\n",
    "plt.ylabel('Number of buildings', fontsize = 18)\n",
    "plt.savefig('oil_boilers_2015', dpi=300, transparent=True)\n",
    "plt.show()\n",
    "print ('Estimated total consumption by the oil boilers in 2015. ' +\n",
    "       'The distribution skewed right.')"
   ]
  },
  {
   "cell_type": "code",
   "execution_count": 23,
   "metadata": {},
   "outputs": [
    {
     "data": {
      "text/plain": [
       "7883"
      ]
     },
     "execution_count": 23,
     "metadata": {},
     "output_type": "execute_result"
    }
   ],
   "source": [
    "len(df)"
   ]
  },
  {
   "cell_type": "code",
   "execution_count": 24,
   "metadata": {},
   "outputs": [],
   "source": [
    "dfzip = df.groupby(\"zip_code\").sum()\n",
    "dfzip.reset_index(inplace=True)"
   ]
  },
  {
   "cell_type": "code",
   "execution_count": 25,
   "metadata": {},
   "outputs": [],
   "source": [
    "dfzip.to_csv('boiler_estimate_cosumption_2015_byzipcode.csv')"
   ]
  },
  {
   "cell_type": "code",
   "execution_count": 26,
   "metadata": {},
   "outputs": [
    {
     "data": {
      "text/plain": [
       "pandas.core.frame.DataFrame"
      ]
     },
     "execution_count": 26,
     "metadata": {},
     "output_type": "execute_result"
    }
   ],
   "source": [
    "type(dfzip)"
   ]
  },
  {
   "cell_type": "code",
   "execution_count": 27,
   "metadata": {},
   "outputs": [],
   "source": [
    "os.system(\"curl -O http://catalog.civicdashboards.com/dataset/11fd957a-8885-42ef-aa49-5c879ec93fac/resource/28377e88-8a50-428f-807c-40ba1f09159b/download/nyc-zip-code-tabulation-areas-polygons.geojson\")\n",
    "os.system(\"mv \" + \"nyc-zip-code-tabulation-areas-polygons.geojson \" + os.getenv(\"PUIDATA\"))\n",
    "nyc = gpd.read_file(os.getenv(\"PUIDATA\") + \"/\" + 'nyc-zip-code-tabulation-areas-polygons.geojson')"
   ]
  },
  {
   "cell_type": "code",
   "execution_count": 28,
   "metadata": {},
   "outputs": [],
   "source": [
    "nyc['zip_code'] = nyc.postalCode.astype(str)\n",
    "nyc.drop(['OBJECTID', 'postalCode', 'PO_NAME', 'STATE', 'borough', 'ST_FIPS',\n",
    "          'CTY_FIPS', 'BLDGpostal', '@id', 'longitude', 'latitude'], axis=1, inplace=True)"
   ]
  },
  {
   "cell_type": "code",
   "execution_count": 29,
   "metadata": {},
   "outputs": [],
   "source": [
    "nyc = nyc.sort_values(by='zip_code', ascending=True)"
   ]
  },
  {
   "cell_type": "code",
   "execution_count": 30,
   "metadata": {},
   "outputs": [
    {
     "data": {
      "text/html": [
       "<div>\n",
       "<style scoped>\n",
       "    .dataframe tbody tr th:only-of-type {\n",
       "        vertical-align: middle;\n",
       "    }\n",
       "\n",
       "    .dataframe tbody tr th {\n",
       "        vertical-align: top;\n",
       "    }\n",
       "\n",
       "    .dataframe thead th {\n",
       "        text-align: right;\n",
       "    }\n",
       "</style>\n",
       "<table border=\"1\" class=\"dataframe\">\n",
       "  <thead>\n",
       "    <tr style=\"text-align: right;\">\n",
       "      <th></th>\n",
       "      <th>geometry</th>\n",
       "      <th>zip_code</th>\n",
       "      <th>total_consumption_gallons</th>\n",
       "      <th>boiler_installation_date</th>\n",
       "    </tr>\n",
       "  </thead>\n",
       "  <tbody>\n",
       "    <tr>\n",
       "      <th>0</th>\n",
       "      <td>POLYGON ((-74.00827017711134 40.75258714368449...</td>\n",
       "      <td>10001</td>\n",
       "      <td>12352480</td>\n",
       "      <td>351629</td>\n",
       "    </tr>\n",
       "    <tr>\n",
       "      <th>1</th>\n",
       "      <td>POLYGON ((-73.97441674489379 40.73642441865476...</td>\n",
       "      <td>10002</td>\n",
       "      <td>1850799</td>\n",
       "      <td>51694</td>\n",
       "    </tr>\n",
       "    <tr>\n",
       "      <th>2</th>\n",
       "      <td>POLYGON ((-73.97986374196766 40.73497446573838...</td>\n",
       "      <td>10003</td>\n",
       "      <td>9808501</td>\n",
       "      <td>287956</td>\n",
       "    </tr>\n",
       "    <tr>\n",
       "      <th>3</th>\n",
       "      <td>POLYGON ((-74.04699098912498 40.69012472491997...</td>\n",
       "      <td>10004</td>\n",
       "      <td>1081638</td>\n",
       "      <td>13897</td>\n",
       "    </tr>\n",
       "    <tr>\n",
       "      <th>7</th>\n",
       "      <td>POLYGON ((-74.00596661578348 40.7043243225291,...</td>\n",
       "      <td>10005</td>\n",
       "      <td>85200</td>\n",
       "      <td>1969</td>\n",
       "    </tr>\n",
       "  </tbody>\n",
       "</table>\n",
       "</div>"
      ],
      "text/plain": [
       "                                            geometry zip_code  \\\n",
       "0  POLYGON ((-74.00827017711134 40.75258714368449...    10001   \n",
       "1  POLYGON ((-73.97441674489379 40.73642441865476...    10002   \n",
       "2  POLYGON ((-73.97986374196766 40.73497446573838...    10003   \n",
       "3  POLYGON ((-74.04699098912498 40.69012472491997...    10004   \n",
       "7  POLYGON ((-74.00596661578348 40.7043243225291,...    10005   \n",
       "\n",
       "   total_consumption_gallons  boiler_installation_date  \n",
       "0                   12352480                    351629  \n",
       "1                    1850799                     51694  \n",
       "2                    9808501                    287956  \n",
       "3                    1081638                     13897  \n",
       "7                      85200                      1969  "
      ]
     },
     "execution_count": 30,
     "metadata": {},
     "output_type": "execute_result"
    }
   ],
   "source": [
    "mapData = pd.merge(nyc, dfzip, on='zip_code').drop_duplicates('zip_code')\n",
    "mapData.head()"
   ]
  },
  {
   "cell_type": "code",
   "execution_count": 31,
   "metadata": {},
   "outputs": [],
   "source": [
    "mapData.crs = from_epsg(4326) #from lat/long\n",
    "mapData['geometry'] = nyc.to_crs(epsg=2263).geometry\n",
    "mapData = gpd.GeoDataFrame(mapData)"
   ]
  },
  {
   "cell_type": "raw",
   "metadata": {},
   "source": [
    "mapData.groupby(mapData['zip_code']).describe()"
   ]
  },
  {
   "cell_type": "code",
   "execution_count": 32,
   "metadata": {},
   "outputs": [
    {
     "data": {
      "image/png": "[encoded data removed]",
      "text/plain": [
       "<matplotlib.figure.Figure at 0x10f2282b0>"
      ]
     },
     "metadata": {},
     "output_type": "display_data"
    }
   ],
   "source": [
    "name = 'total_consumption_gallons'\n",
    "ax = mapData.plot(column='{}'.format(name), cmap='BuPu', alpha=1)\n",
    "vmin, vmax = min(mapData['{}'.format(name)].values), max(mapData['{}'.format(name)].values)\n",
    "ax.axis('off')\n",
    "ax.set_title('Choropleth of {}'.format(name), size=20)\n",
    "fig = ax.get_figure()\n",
    "cax = fig.add_axes([0.9, 0.1, 0.03, 0.8])\n",
    "sm = plt.cm.ScalarMappable(cmap='BuPu', norm=plt.Normalize(vmin=vmin, vmax=vmax))\n",
    "sm._A = []\n",
    "fig.colorbar(sm, cax=cax)\n",
    "plt.savefig('boiler_total_consumption_gallons', dpi=300, transparent=True)\n",
    "plt.show()"
   ]
  },
  {
   "cell_type": "code",
   "execution_count": null,
   "metadata": {},
   "outputs": [],
   "source": []
  }
 ],
 "metadata": {
  "kernelspec": {
   "display_name": "Python 3",
   "language": "python",
   "name": "python3"
  },
  "language_info": {
   "codemirror_mode": {
    "name": "ipython",
    "version": 3
   },
   "file_extension": ".py",
   "mimetype": "text/x-python",
   "name": "python",
   "nbconvert_exporter": "python",
   "pygments_lexer": "ipython3",
   "version": "3.6.1"
  }
 },
 "nbformat": 4,
 "nbformat_minor": 2
}
