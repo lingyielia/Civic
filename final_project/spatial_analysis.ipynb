{
 "cells": [
  {
   "cell_type": "code",
   "execution_count": 1,
   "metadata": {},
   "outputs": [],
   "source": [
    "from __future__ import print_function, division\n",
    "%matplotlib inline\n",
    "import statsmodels.formula.api as smf  \n",
    "import matplotlib.pyplot as plt\n",
    "import matplotlib\n",
    "import pandas as pd\n",
    "import numpy as np\n",
    "import geopandas as gpd\n",
    "import os\n",
    "import sys\n",
    "from scipy import stats\n",
    "from fiona.crs import from_epsg\n",
    "import shapely\n",
    "#from pysal.cg.shapes import Polygon"
   ]
  },
  {
   "cell_type": "code",
   "execution_count": 2,
   "metadata": {},
   "outputs": [
    {
     "data": {
      "text/html": [
       "<div>\n",
       "<style scoped>\n",
       "    .dataframe tbody tr th:only-of-type {\n",
       "        vertical-align: middle;\n",
       "    }\n",
       "\n",
       "    .dataframe tbody tr th {\n",
       "        vertical-align: top;\n",
       "    }\n",
       "\n",
       "    .dataframe thead th {\n",
       "        text-align: right;\n",
       "    }\n",
       "</style>\n",
       "<table border=\"1\" class=\"dataframe\">\n",
       "  <thead>\n",
       "    <tr style=\"text-align: right;\">\n",
       "      <th></th>\n",
       "      <th>zip_code</th>\n",
       "      <th>traffic</th>\n",
       "      <th>GHG</th>\n",
       "      <th>boiler</th>\n",
       "      <th>construction</th>\n",
       "      <th>pm</th>\n",
       "      <th>traffic_square</th>\n",
       "    </tr>\n",
       "  </thead>\n",
       "  <tbody>\n",
       "    <tr>\n",
       "      <th>0</th>\n",
       "      <td>10034</td>\n",
       "      <td>2.890238</td>\n",
       "      <td>-0.540985</td>\n",
       "      <td>1.072069</td>\n",
       "      <td>-0.763984</td>\n",
       "      <td>0.184157</td>\n",
       "      <td>3.934167</td>\n",
       "    </tr>\n",
       "    <tr>\n",
       "      <th>1</th>\n",
       "      <td>10017</td>\n",
       "      <td>2.841724</td>\n",
       "      <td>2.294960</td>\n",
       "      <td>0.563143</td>\n",
       "      <td>1.477751</td>\n",
       "      <td>2.498788</td>\n",
       "      <td>3.837417</td>\n",
       "    </tr>\n",
       "    <tr>\n",
       "      <th>2</th>\n",
       "      <td>10009</td>\n",
       "      <td>2.613907</td>\n",
       "      <td>0.005641</td>\n",
       "      <td>-0.575281</td>\n",
       "      <td>0.387327</td>\n",
       "      <td>0.888610</td>\n",
       "      <td>3.395591</td>\n",
       "    </tr>\n",
       "    <tr>\n",
       "      <th>3</th>\n",
       "      <td>10475</td>\n",
       "      <td>2.592991</td>\n",
       "      <td>0.149569</td>\n",
       "      <td>-0.689843</td>\n",
       "      <td>-0.835931</td>\n",
       "      <td>-0.117751</td>\n",
       "      <td>3.356060</td>\n",
       "    </tr>\n",
       "    <tr>\n",
       "      <th>4</th>\n",
       "      <td>10011</td>\n",
       "      <td>2.396429</td>\n",
       "      <td>0.032177</td>\n",
       "      <td>1.485571</td>\n",
       "      <td>3.104135</td>\n",
       "      <td>2.196880</td>\n",
       "      <td>2.993048</td>\n",
       "    </tr>\n",
       "  </tbody>\n",
       "</table>\n",
       "</div>"
      ],
      "text/plain": [
       "  zip_code   traffic       GHG    boiler  construction        pm  \\\n",
       "0    10034  2.890238 -0.540985  1.072069     -0.763984  0.184157   \n",
       "1    10017  2.841724  2.294960  0.563143      1.477751  2.498788   \n",
       "2    10009  2.613907  0.005641 -0.575281      0.387327  0.888610   \n",
       "3    10475  2.592991  0.149569 -0.689843     -0.835931 -0.117751   \n",
       "4    10011  2.396429  0.032177  1.485571      3.104135  2.196880   \n",
       "\n",
       "   traffic_square  \n",
       "0        3.934167  \n",
       "1        3.837417  \n",
       "2        3.395591  \n",
       "3        3.356060  \n",
       "4        2.993048  "
      ]
     },
     "execution_count": 2,
     "metadata": {},
     "output_type": "execute_result"
    }
   ],
   "source": [
    "df = pd.read_csv(\"five_variables_zipcode.csv\", index_col=0)\n",
    "df['zip_code'] = df['zip_code'].astype(str)\n",
    "df.head()"
   ]
  },
  {
   "cell_type": "code",
   "execution_count": 3,
   "metadata": {},
   "outputs": [],
   "source": [
    "os.system(\"curl -O http://catalog.civicdashboards.com/dataset/11fd957a-8885-42ef-aa49-5c879ec93fac/resource/28377e88-8a50-428f-807c-40ba1f09159b/download/nyc-zip-code-tabulation-areas-polygons.geojson\")\n",
    "os.system(\"mv \" + \"nyc-zip-code-tabulation-areas-polygons.geojson \" + os.getenv(\"PUIDATA\"))\n",
    "nyc = gpd.read_file(os.getenv(\"PUIDATA\") + \"/\" + 'nyc-zip-code-tabulation-areas-polygons.geojson')"
   ]
  },
  {
   "cell_type": "code",
   "execution_count": 4,
   "metadata": {},
   "outputs": [],
   "source": [
    "nyc['zip_code'] = nyc.postalCode.astype(str)\n",
    "nyc.drop(['postalCode'], axis=1, inplace=True)"
   ]
  },
  {
   "cell_type": "code",
   "execution_count": 5,
   "metadata": {},
   "outputs": [
    {
     "data": {
      "text/html": [
       "<div>\n",
       "<style scoped>\n",
       "    .dataframe tbody tr th:only-of-type {\n",
       "        vertical-align: middle;\n",
       "    }\n",
       "\n",
       "    .dataframe tbody tr th {\n",
       "        vertical-align: top;\n",
       "    }\n",
       "\n",
       "    .dataframe thead th {\n",
       "        text-align: right;\n",
       "    }\n",
       "</style>\n",
       "<table border=\"1\" class=\"dataframe\">\n",
       "  <thead>\n",
       "    <tr style=\"text-align: right;\">\n",
       "      <th></th>\n",
       "      <th>OBJECTID</th>\n",
       "      <th>PO_NAME</th>\n",
       "      <th>STATE</th>\n",
       "      <th>borough</th>\n",
       "      <th>ST_FIPS</th>\n",
       "      <th>CTY_FIPS</th>\n",
       "      <th>BLDGpostal</th>\n",
       "      <th>@id</th>\n",
       "      <th>longitude</th>\n",
       "      <th>latitude</th>\n",
       "      <th>geometry</th>\n",
       "      <th>zip_code</th>\n",
       "      <th>traffic</th>\n",
       "      <th>GHG</th>\n",
       "      <th>boiler</th>\n",
       "      <th>construction</th>\n",
       "      <th>pm</th>\n",
       "      <th>traffic_square</th>\n",
       "    </tr>\n",
       "  </thead>\n",
       "  <tbody>\n",
       "    <tr>\n",
       "      <th>0</th>\n",
       "      <td>1</td>\n",
       "      <td>Jackson Heights</td>\n",
       "      <td>NY</td>\n",
       "      <td>Queens</td>\n",
       "      <td>36</td>\n",
       "      <td>081</td>\n",
       "      <td>0</td>\n",
       "      <td>http://nyc.pediacities.com/Resource/PostalCode...</td>\n",
       "      <td>-73.883573</td>\n",
       "      <td>40.751662</td>\n",
       "      <td>POLYGON ((-73.86942457284177 40.74915687096788...</td>\n",
       "      <td>11372</td>\n",
       "      <td>-0.467862</td>\n",
       "      <td>-0.649442</td>\n",
       "      <td>0.064432</td>\n",
       "      <td>-0.434799</td>\n",
       "      <td>-0.017115</td>\n",
       "      <td>-0.555573</td>\n",
       "    </tr>\n",
       "    <tr>\n",
       "      <th>1</th>\n",
       "      <td>2</td>\n",
       "      <td>Glen Oaks</td>\n",
       "      <td>NY</td>\n",
       "      <td>Queens</td>\n",
       "      <td>36</td>\n",
       "      <td>081</td>\n",
       "      <td>0</td>\n",
       "      <td>http://nyc.pediacities.com/Resource/PostalCode...</td>\n",
       "      <td>-73.711608</td>\n",
       "      <td>40.745366</td>\n",
       "      <td>POLYGON ((-73.71132911125308 40.74947450816085...</td>\n",
       "      <td>11004</td>\n",
       "      <td>-0.311005</td>\n",
       "      <td>0.820258</td>\n",
       "      <td>-0.716272</td>\n",
       "      <td>-0.920499</td>\n",
       "      <td>-1.325385</td>\n",
       "      <td>-0.445581</td>\n",
       "    </tr>\n",
       "    <tr>\n",
       "      <th>2</th>\n",
       "      <td>5</td>\n",
       "      <td>Fresh Meadows</td>\n",
       "      <td>NY</td>\n",
       "      <td>Queens</td>\n",
       "      <td>36</td>\n",
       "      <td>081</td>\n",
       "      <td>0</td>\n",
       "      <td>http://nyc.pediacities.com/Resource/PostalCode...</td>\n",
       "      <td>-73.794626</td>\n",
       "      <td>40.739903</td>\n",
       "      <td>POLYGON ((-73.81088634744756 40.7271718757592,...</td>\n",
       "      <td>11365</td>\n",
       "      <td>-1.576896</td>\n",
       "      <td>-0.723556</td>\n",
       "      <td>-0.196485</td>\n",
       "      <td>-0.422458</td>\n",
       "      <td>-1.023476</td>\n",
       "      <td>-1.054431</td>\n",
       "    </tr>\n",
       "    <tr>\n",
       "      <th>3</th>\n",
       "      <td>6</td>\n",
       "      <td>Elmhurst</td>\n",
       "      <td>NY</td>\n",
       "      <td>Queens</td>\n",
       "      <td>36</td>\n",
       "      <td>081</td>\n",
       "      <td>0</td>\n",
       "      <td>http://nyc.pediacities.com/Resource/PostalCode...</td>\n",
       "      <td>-73.878423</td>\n",
       "      <td>40.738851</td>\n",
       "      <td>POLYGON ((-73.88722098467159 40.72752618766135...</td>\n",
       "      <td>11373</td>\n",
       "      <td>-0.454392</td>\n",
       "      <td>-0.428756</td>\n",
       "      <td>-0.171503</td>\n",
       "      <td>-0.103707</td>\n",
       "      <td>-0.017115</td>\n",
       "      <td>-0.546510</td>\n",
       "    </tr>\n",
       "    <tr>\n",
       "      <th>4</th>\n",
       "      <td>8</td>\n",
       "      <td>Forest Hills</td>\n",
       "      <td>NY</td>\n",
       "      <td>Queens</td>\n",
       "      <td>36</td>\n",
       "      <td>081</td>\n",
       "      <td>0</td>\n",
       "      <td>http://nyc.pediacities.com/Resource/PostalCode...</td>\n",
       "      <td>-73.846278</td>\n",
       "      <td>40.720682</td>\n",
       "      <td>POLYGON ((-73.85644802697581 40.73625356975942...</td>\n",
       "      <td>11375</td>\n",
       "      <td>-0.340464</td>\n",
       "      <td>-0.254028</td>\n",
       "      <td>0.253172</td>\n",
       "      <td>-0.250569</td>\n",
       "      <td>-0.721568</td>\n",
       "      <td>-0.466984</td>\n",
       "    </tr>\n",
       "  </tbody>\n",
       "</table>\n",
       "</div>"
      ],
      "text/plain": [
       "   OBJECTID          PO_NAME STATE borough ST_FIPS CTY_FIPS  BLDGpostal  \\\n",
       "0         1  Jackson Heights    NY  Queens      36      081           0   \n",
       "1         2        Glen Oaks    NY  Queens      36      081           0   \n",
       "2         5    Fresh Meadows    NY  Queens      36      081           0   \n",
       "3         6         Elmhurst    NY  Queens      36      081           0   \n",
       "4         8     Forest Hills    NY  Queens      36      081           0   \n",
       "\n",
       "                                                 @id  longitude   latitude  \\\n",
       "0  http://nyc.pediacities.com/Resource/PostalCode... -73.883573  40.751662   \n",
       "1  http://nyc.pediacities.com/Resource/PostalCode... -73.711608  40.745366   \n",
       "2  http://nyc.pediacities.com/Resource/PostalCode... -73.794626  40.739903   \n",
       "3  http://nyc.pediacities.com/Resource/PostalCode... -73.878423  40.738851   \n",
       "4  http://nyc.pediacities.com/Resource/PostalCode... -73.846278  40.720682   \n",
       "\n",
       "                                            geometry zip_code   traffic  \\\n",
       "0  POLYGON ((-73.86942457284177 40.74915687096788...    11372 -0.467862   \n",
       "1  POLYGON ((-73.71132911125308 40.74947450816085...    11004 -0.311005   \n",
       "2  POLYGON ((-73.81088634744756 40.7271718757592,...    11365 -1.576896   \n",
       "3  POLYGON ((-73.88722098467159 40.72752618766135...    11373 -0.454392   \n",
       "4  POLYGON ((-73.85644802697581 40.73625356975942...    11375 -0.340464   \n",
       "\n",
       "        GHG    boiler  construction        pm  traffic_square  \n",
       "0 -0.649442  0.064432     -0.434799 -0.017115       -0.555573  \n",
       "1  0.820258 -0.716272     -0.920499 -1.325385       -0.445581  \n",
       "2 -0.723556 -0.196485     -0.422458 -1.023476       -1.054431  \n",
       "3 -0.428756 -0.171503     -0.103707 -0.017115       -0.546510  \n",
       "4 -0.254028  0.253172     -0.250569 -0.721568       -0.466984  "
      ]
     },
     "execution_count": 5,
     "metadata": {},
     "output_type": "execute_result"
    }
   ],
   "source": [
    "mapData = pd.merge(nyc, df, on='zip_code').drop_duplicates('zip_code')\n",
    "mapData = gpd.GeoDataFrame(mapData)\n",
    "mapData.head()"
   ]
  },
  {
   "cell_type": "raw",
   "metadata": {},
   "source": [
    "mapData['centroid'] = mapData.geometry.centroid\n",
    "mapData.head()"
   ]
  },
  {
   "cell_type": "code",
   "execution_count": 6,
   "metadata": {},
   "outputs": [
    {
     "data": {
      "text/plain": [
       "OBJECTID            int64\n",
       "PO_NAME            object\n",
       "STATE              object\n",
       "borough            object\n",
       "ST_FIPS            object\n",
       "CTY_FIPS           object\n",
       "BLDGpostal          int64\n",
       "@id                object\n",
       "longitude         float64\n",
       "latitude          float64\n",
       "geometry           object\n",
       "zip_code           object\n",
       "traffic           float64\n",
       "GHG               float64\n",
       "boiler            float64\n",
       "construction      float64\n",
       "pm                float64\n",
       "traffic_square    float64\n",
       "dtype: object"
      ]
     },
     "execution_count": 6,
     "metadata": {},
     "output_type": "execute_result"
    }
   ],
   "source": [
    "mapData.dtypes"
   ]
  },
  {
   "cell_type": "raw",
   "metadata": {},
   "source": [
    "type(mapData.centroid[0])"
   ]
  },
  {
   "cell_type": "raw",
   "metadata": {},
   "source": [
    "type(mapData.geometry[0])"
   ]
  },
  {
   "cell_type": "code",
   "execution_count": 7,
   "metadata": {},
   "outputs": [],
   "source": [
    "mapData.crs = from_epsg(2263)"
   ]
  },
  {
   "cell_type": "raw",
   "metadata": {},
   "source": [
    "mapData.centroid[0].x"
   ]
  },
  {
   "cell_type": "raw",
   "metadata": {},
   "source": [
    "mapData['centroid_x'] = mapData.centroid.x\n",
    "mapData['centroid_y'] = mapData.centroid.y"
   ]
  },
  {
   "cell_type": "code",
   "execution_count": 8,
   "metadata": {},
   "outputs": [],
   "source": [
    "mapData.to_file(\"ny_air_2015.shp\")"
   ]
  },
  {
   "cell_type": "raw",
   "metadata": {},
   "source": [
    "mapData.to_csv(\"ny_air_2015.csv\")"
   ]
  },
  {
   "cell_type": "code",
   "execution_count": null,
   "metadata": {},
   "outputs": [],
   "source": []
  },
  {
   "cell_type": "code",
   "execution_count": null,
   "metadata": {},
   "outputs": [],
   "source": []
  },
  {
   "cell_type": "code",
   "execution_count": null,
   "metadata": {},
   "outputs": [],
   "source": []
  },
  {
   "cell_type": "code",
   "execution_count": null,
   "metadata": {},
   "outputs": [],
   "source": []
  },
  {
   "cell_type": "code",
   "execution_count": null,
   "metadata": {},
   "outputs": [],
   "source": []
  },
  {
   "cell_type": "code",
   "execution_count": null,
   "metadata": {},
   "outputs": [],
   "source": []
  }
 ],
 "metadata": {
  "kernelspec": {
   "display_name": "Python 3",
   "language": "python",
   "name": "python3"
  },
  "language_info": {
   "codemirror_mode": {
    "name": "ipython",
    "version": 3
   },
   "file_extension": ".py",
   "mimetype": "text/x-python",
   "name": "python",
   "nbconvert_exporter": "python",
   "pygments_lexer": "ipython3",
   "version": "3.6.1"
  }
 },
 "nbformat": 4,
 "nbformat_minor": 2
}
