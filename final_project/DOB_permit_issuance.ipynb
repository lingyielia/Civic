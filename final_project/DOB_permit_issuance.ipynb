{
 "cells": [
  {
   "cell_type": "code",
   "execution_count": 1,
   "metadata": {},
   "outputs": [],
   "source": [
    "from __future__ import print_function, division\n",
    "%matplotlib inline\n",
    "import statsmodels.formula.api as smf  \n",
    "import matplotlib.pyplot as plt\n",
    "import matplotlib\n",
    "import pandas as pd\n",
    "import numpy as np\n",
    "import geopandas as gpd\n",
    "import os\n",
    "#import operator\n",
    "#import requests\n",
    "import sys\n",
    "from scipy import stats\n",
    "from fiona.crs import from_epsg"
   ]
  },
  {
   "cell_type": "code",
   "execution_count": 2,
   "metadata": {},
   "outputs": [],
   "source": [
    "matplotlib.rcParams['font.size'] = 12\n",
    "matplotlib.rcParams['figure.figsize'] = (12,10)"
   ]
  },
  {
   "cell_type": "raw",
   "metadata": {},
   "source": [
    "from sodapy import Socrata"
   ]
  },
  {
   "cell_type": "raw",
   "metadata": {},
   "source": [
    "client = Socrata(\"https://data.cityofnewyork.us/Housing-Development/DOB-Permit-Issuance/ipu4-2q9a\",\n",
    "                 os.getenv(\"apptoken\"))"
   ]
  },
  {
   "cell_type": "raw",
   "metadata": {},
   "source": [
    "client.get(\"ipu4-2q9a\", content_type=\"csv\", limit=2)"
   ]
  },
  {
   "cell_type": "code",
   "execution_count": 3,
   "metadata": {},
   "outputs": [
    {
     "data": {
      "text/plain": [
       "0"
      ]
     },
     "execution_count": 3,
     "metadata": {},
     "output_type": "execute_result"
    }
   ],
   "source": [
    "os.system(\"curl -O https://data.cityofnewyork.us/api/views/ipu4-2q9a/rows.csv\")\n",
    "os.system(\"mv \" + \"rows.csv \" + os.getenv(\"PUIDATA\"))"
   ]
  },
  {
   "cell_type": "code",
   "execution_count": 4,
   "metadata": {},
   "outputs": [
    {
     "name": "stderr",
     "output_type": "stream",
     "text": [
      "/Library/Frameworks/Python.framework/Versions/3.6/lib/python3.6/site-packages/IPython/core/interactiveshell.py:2698: DtypeWarning: Columns (1,9,10,11,12,31,33,34,35,36,51,52) have mixed types. Specify dtype option on import or set low_memory=False.\n",
      "  interactivity=interactivity, compiler=compiler, result=result)\n"
     ]
    },
    {
     "data": {
      "text/html": [
       "<div>\n",
       "<style scoped>\n",
       "    .dataframe tbody tr th:only-of-type {\n",
       "        vertical-align: middle;\n",
       "    }\n",
       "\n",
       "    .dataframe tbody tr th {\n",
       "        vertical-align: top;\n",
       "    }\n",
       "\n",
       "    .dataframe thead th {\n",
       "        text-align: right;\n",
       "    }\n",
       "</style>\n",
       "<table border=\"1\" class=\"dataframe\">\n",
       "  <thead>\n",
       "    <tr style=\"text-align: right;\">\n",
       "      <th></th>\n",
       "      <th>BOROUGH</th>\n",
       "      <th>Bin #</th>\n",
       "      <th>House #</th>\n",
       "      <th>Street Name</th>\n",
       "      <th>Job #</th>\n",
       "      <th>Job doc. #</th>\n",
       "      <th>Job Type</th>\n",
       "      <th>Self_Cert</th>\n",
       "      <th>Block</th>\n",
       "      <th>Lot</th>\n",
       "      <th>...</th>\n",
       "      <th>Owner's Business Name</th>\n",
       "      <th>Owner's First Name</th>\n",
       "      <th>Owner's Last Name</th>\n",
       "      <th>Owner's House #</th>\n",
       "      <th>Owner's House Street Name</th>\n",
       "      <th>Owner’s House City</th>\n",
       "      <th>Owner’s House State</th>\n",
       "      <th>Owner’s House Zip Code</th>\n",
       "      <th>Owner's Phone #</th>\n",
       "      <th>DOBRunDate</th>\n",
       "    </tr>\n",
       "  </thead>\n",
       "  <tbody>\n",
       "    <tr>\n",
       "      <th>0</th>\n",
       "      <td>QUEENS</td>\n",
       "      <td>4080123</td>\n",
       "      <td>83-09</td>\n",
       "      <td>TALBOT STREET</td>\n",
       "      <td>421044435.0</td>\n",
       "      <td>1.0</td>\n",
       "      <td>A2</td>\n",
       "      <td>Y</td>\n",
       "      <td>3354.0</td>\n",
       "      <td>7501</td>\n",
       "      <td>...</td>\n",
       "      <td>BENEDICT REALTY GROUP</td>\n",
       "      <td>DANIEL</td>\n",
       "      <td>BENEDICT</td>\n",
       "      <td>150</td>\n",
       "      <td>GREAT NECK ROAD</td>\n",
       "      <td>GREAT NECK</td>\n",
       "      <td>NY</td>\n",
       "      <td>11021</td>\n",
       "      <td>5.16569e+09</td>\n",
       "      <td>03/30/2016 12:00:00 PM</td>\n",
       "    </tr>\n",
       "    <tr>\n",
       "      <th>1</th>\n",
       "      <td>MANHATTAN</td>\n",
       "      <td>1026676</td>\n",
       "      <td>435</td>\n",
       "      <td>WEST 50TH STREET</td>\n",
       "      <td>121330755.0</td>\n",
       "      <td>1.0</td>\n",
       "      <td>A2</td>\n",
       "      <td>NaN</td>\n",
       "      <td>1060.0</td>\n",
       "      <td>0</td>\n",
       "      <td>...</td>\n",
       "      <td>435 WEST 50TH STREET LLC</td>\n",
       "      <td>MICHAEL</td>\n",
       "      <td>STERN</td>\n",
       "      <td>5</td>\n",
       "      <td>EAST 17TH STREET</td>\n",
       "      <td>NEW YORK</td>\n",
       "      <td>NY</td>\n",
       "      <td>10003</td>\n",
       "      <td>2.1261e+09</td>\n",
       "      <td>08/23/2013 12:00:00 PM</td>\n",
       "    </tr>\n",
       "    <tr>\n",
       "      <th>2</th>\n",
       "      <td>MANHATTAN</td>\n",
       "      <td>1080791</td>\n",
       "      <td>165</td>\n",
       "      <td>MADISON AVENUE</td>\n",
       "      <td>121781955.0</td>\n",
       "      <td>1.0</td>\n",
       "      <td>A2</td>\n",
       "      <td>NaN</td>\n",
       "      <td>862.0</td>\n",
       "      <td>51</td>\n",
       "      <td>...</td>\n",
       "      <td>TAMAR  PROPERTIES N.V. INC.</td>\n",
       "      <td>CARLOS</td>\n",
       "      <td>SILBERMAN</td>\n",
       "      <td>167</td>\n",
       "      <td>MADISON AVENUE</td>\n",
       "      <td>NY</td>\n",
       "      <td>NY</td>\n",
       "      <td>10016</td>\n",
       "      <td>2.12302e+09</td>\n",
       "      <td>04/03/2014 12:00:00 PM</td>\n",
       "    </tr>\n",
       "    <tr>\n",
       "      <th>3</th>\n",
       "      <td>MANHATTAN</td>\n",
       "      <td>1055643</td>\n",
       "      <td>943</td>\n",
       "      <td>COLUMBUS AVENUE</td>\n",
       "      <td>140355407.0</td>\n",
       "      <td>1.0</td>\n",
       "      <td>A2</td>\n",
       "      <td>Y</td>\n",
       "      <td>1842.0</td>\n",
       "      <td>2</td>\n",
       "      <td>...</td>\n",
       "      <td>NaN</td>\n",
       "      <td>ALLEN</td>\n",
       "      <td>YU</td>\n",
       "      <td>943</td>\n",
       "      <td>COLUMBUS AVENUE</td>\n",
       "      <td>MANHATTAN</td>\n",
       "      <td>NY</td>\n",
       "      <td>10025</td>\n",
       "      <td>9.17436e+09</td>\n",
       "      <td>06/04/2015 12:00:00 PM</td>\n",
       "    </tr>\n",
       "    <tr>\n",
       "      <th>4</th>\n",
       "      <td>MANHATTAN</td>\n",
       "      <td>1041379</td>\n",
       "      <td>50</td>\n",
       "      <td>EAST 72ND STREET</td>\n",
       "      <td>121713618.0</td>\n",
       "      <td>1.0</td>\n",
       "      <td>A2</td>\n",
       "      <td>NaN</td>\n",
       "      <td>1386.0</td>\n",
       "      <td>7501</td>\n",
       "      <td>...</td>\n",
       "      <td>JR LIMITED PARTNERSHIP</td>\n",
       "      <td>WILLIAM</td>\n",
       "      <td>PAILEY, JR.</td>\n",
       "      <td>21451</td>\n",
       "      <td>WEST OAK TRAIL</td>\n",
       "      <td>KILDEER</td>\n",
       "      <td>IL</td>\n",
       "      <td>60047</td>\n",
       "      <td>8.47438e+09</td>\n",
       "      <td>09/17/2014 12:00:00 PM</td>\n",
       "    </tr>\n",
       "  </tbody>\n",
       "</table>\n",
       "<p>5 rows × 54 columns</p>\n",
       "</div>"
      ],
      "text/plain": [
       "     BOROUGH    Bin # House #       Street Name        Job #  Job doc. #  \\\n",
       "0     QUEENS  4080123   83-09     TALBOT STREET  421044435.0         1.0   \n",
       "1  MANHATTAN  1026676     435  WEST 50TH STREET  121330755.0         1.0   \n",
       "2  MANHATTAN  1080791     165    MADISON AVENUE  121781955.0         1.0   \n",
       "3  MANHATTAN  1055643     943   COLUMBUS AVENUE  140355407.0         1.0   \n",
       "4  MANHATTAN  1041379      50  EAST 72ND STREET  121713618.0         1.0   \n",
       "\n",
       "  Job Type Self_Cert   Block   Lot           ...            \\\n",
       "0       A2         Y  3354.0  7501           ...             \n",
       "1       A2       NaN  1060.0     0           ...             \n",
       "2       A2       NaN   862.0    51           ...             \n",
       "3       A2         Y  1842.0     2           ...             \n",
       "4       A2       NaN  1386.0  7501           ...             \n",
       "\n",
       "         Owner's Business Name Owner's First Name Owner's Last Name  \\\n",
       "0        BENEDICT REALTY GROUP             DANIEL          BENEDICT   \n",
       "1     435 WEST 50TH STREET LLC            MICHAEL             STERN   \n",
       "2  TAMAR  PROPERTIES N.V. INC.             CARLOS         SILBERMAN   \n",
       "3                          NaN              ALLEN                YU   \n",
       "4       JR LIMITED PARTNERSHIP            WILLIAM       PAILEY, JR.   \n",
       "\n",
       "  Owner's House # Owner's House Street Name Owner’s House City  \\\n",
       "0             150           GREAT NECK ROAD         GREAT NECK   \n",
       "1               5          EAST 17TH STREET           NEW YORK   \n",
       "2             167            MADISON AVENUE                 NY   \n",
       "3             943           COLUMBUS AVENUE          MANHATTAN   \n",
       "4           21451            WEST OAK TRAIL            KILDEER   \n",
       "\n",
       "  Owner’s House State Owner’s House Zip Code Owner's Phone #  \\\n",
       "0                  NY                  11021     5.16569e+09   \n",
       "1                  NY                  10003      2.1261e+09   \n",
       "2                  NY                  10016     2.12302e+09   \n",
       "3                  NY                  10025     9.17436e+09   \n",
       "4                  IL                  60047     8.47438e+09   \n",
       "\n",
       "               DOBRunDate  \n",
       "0  03/30/2016 12:00:00 PM  \n",
       "1  08/23/2013 12:00:00 PM  \n",
       "2  04/03/2014 12:00:00 PM  \n",
       "3  06/04/2015 12:00:00 PM  \n",
       "4  09/17/2014 12:00:00 PM  \n",
       "\n",
       "[5 rows x 54 columns]"
      ]
     },
     "execution_count": 4,
     "metadata": {},
     "output_type": "execute_result"
    }
   ],
   "source": [
    "df = pd.read_csv(os.getenv(\"PUIDATA\") + \"/\" + \"rows.csv\")\n",
    "df.head()"
   ]
  },
  {
   "cell_type": "code",
   "execution_count": 5,
   "metadata": {},
   "outputs": [
    {
     "data": {
      "text/plain": [
       "Index(['BOROUGH', 'Bin #', 'House #', 'Street Name', 'Job #', 'Job doc. #',\n",
       "       'Job Type', 'Self_Cert', 'Block', 'Lot', 'Community Board', 'Zip Code',\n",
       "       'Bldg Type', 'Residential', 'Special District 1', 'Special District 2',\n",
       "       'Work Type', 'Permit Status', 'Filing Status', 'Permit Type',\n",
       "       'Permit Sequence #', 'Permit Subtype', 'Oil Gas', 'Site Fill',\n",
       "       'Filing Date', 'Issuance Date', 'Expiration Date', 'Job Start Date',\n",
       "       'Permittee's First Name', 'Permittee's Last Name',\n",
       "       'Permittee's Business Name', 'Permittee's Phone #',\n",
       "       'Permittee's License Type', 'Permittee's License #',\n",
       "       'Act as Superintendent', 'Permittee's Other Title', 'HIC License',\n",
       "       'Site Safety Mgr's First Name', 'Site Safety Mgr's Last Name',\n",
       "       'Site Safety Mgr Business Name', 'Superintendent First & Last Name',\n",
       "       'Superintendent Business Name', 'Owner's Business Type', 'Non-Profit',\n",
       "       'Owner's Business Name', 'Owner's First Name', 'Owner's Last Name',\n",
       "       'Owner's House #', 'Owner's House Street Name', 'Owner’s House City',\n",
       "       'Owner’s House State', 'Owner’s House Zip Code', 'Owner's Phone #',\n",
       "       'DOBRunDate'],\n",
       "      dtype='object')"
      ]
     },
     "execution_count": 5,
     "metadata": {},
     "output_type": "execute_result"
    }
   ],
   "source": [
    "df.columns"
   ]
  },
  {
   "cell_type": "code",
   "execution_count": 6,
   "metadata": {},
   "outputs": [
    {
     "data": {
      "text/html": [
       "<div>\n",
       "<style scoped>\n",
       "    .dataframe tbody tr th:only-of-type {\n",
       "        vertical-align: middle;\n",
       "    }\n",
       "\n",
       "    .dataframe tbody tr th {\n",
       "        vertical-align: top;\n",
       "    }\n",
       "\n",
       "    .dataframe thead th {\n",
       "        text-align: right;\n",
       "    }\n",
       "</style>\n",
       "<table border=\"1\" class=\"dataframe\">\n",
       "  <thead>\n",
       "    <tr style=\"text-align: right;\">\n",
       "      <th></th>\n",
       "      <th>BOROUGH</th>\n",
       "      <th>Block</th>\n",
       "      <th>Lot</th>\n",
       "      <th>Community Board</th>\n",
       "      <th>Zip Code</th>\n",
       "      <th>Expiration Date</th>\n",
       "      <th>Job Start Date</th>\n",
       "    </tr>\n",
       "  </thead>\n",
       "  <tbody>\n",
       "    <tr>\n",
       "      <th>0</th>\n",
       "      <td>QUEENS</td>\n",
       "      <td>3354.0</td>\n",
       "      <td>7501</td>\n",
       "      <td>409</td>\n",
       "      <td>11415</td>\n",
       "      <td>07/01/2016</td>\n",
       "      <td>10/29/2014</td>\n",
       "    </tr>\n",
       "    <tr>\n",
       "      <th>1</th>\n",
       "      <td>MANHATTAN</td>\n",
       "      <td>1060.0</td>\n",
       "      <td>0</td>\n",
       "      <td>104</td>\n",
       "      <td>10019</td>\n",
       "      <td>08/22/2014</td>\n",
       "      <td>08/22/2013</td>\n",
       "    </tr>\n",
       "    <tr>\n",
       "      <th>2</th>\n",
       "      <td>MANHATTAN</td>\n",
       "      <td>862.0</td>\n",
       "      <td>51</td>\n",
       "      <td>105</td>\n",
       "      <td>10016</td>\n",
       "      <td>03/29/2015</td>\n",
       "      <td>11/18/2013</td>\n",
       "    </tr>\n",
       "    <tr>\n",
       "      <th>3</th>\n",
       "      <td>MANHATTAN</td>\n",
       "      <td>1842.0</td>\n",
       "      <td>2</td>\n",
       "      <td>107</td>\n",
       "      <td>10025</td>\n",
       "      <td>01/07/2016</td>\n",
       "      <td>06/03/2015</td>\n",
       "    </tr>\n",
       "    <tr>\n",
       "      <th>4</th>\n",
       "      <td>MANHATTAN</td>\n",
       "      <td>1386.0</td>\n",
       "      <td>7501</td>\n",
       "      <td>108</td>\n",
       "      <td>10021</td>\n",
       "      <td>09/12/2015</td>\n",
       "      <td>04/23/2014</td>\n",
       "    </tr>\n",
       "  </tbody>\n",
       "</table>\n",
       "</div>"
      ],
      "text/plain": [
       "     BOROUGH   Block   Lot Community Board Zip Code Expiration Date  \\\n",
       "0     QUEENS  3354.0  7501             409    11415      07/01/2016   \n",
       "1  MANHATTAN  1060.0     0             104    10019      08/22/2014   \n",
       "2  MANHATTAN   862.0    51             105    10016      03/29/2015   \n",
       "3  MANHATTAN  1842.0     2             107    10025      01/07/2016   \n",
       "4  MANHATTAN  1386.0  7501             108    10021      09/12/2015   \n",
       "\n",
       "  Job Start Date  \n",
       "0     10/29/2014  \n",
       "1     08/22/2013  \n",
       "2     11/18/2013  \n",
       "3     06/03/2015  \n",
       "4     04/23/2014  "
      ]
     },
     "execution_count": 6,
     "metadata": {},
     "output_type": "execute_result"
    }
   ],
   "source": [
    "df = df.drop([\"Bin #\", \"House #\", \"Street Name\", \"Job doc. #\",\n",
    "       \"Job #\", \"Self_Cert\", \"Job Type\", \"Work Type\",\n",
    "       \"Bldg Type\", \"Residential\", \"Special District 1\", \"Special District 2\",\n",
    "       \"Permit Status\", \"Filing Status\", \"Permit Type\",\n",
    "       \"Permit Sequence #\", \"Permit Subtype\", \"Oil Gas\", \"Site Fill\",\n",
    "       \"Filing Date\", \"Issuance Date\",\n",
    "       \"Permittee's First Name\", \"Permittee's Last Name\",\n",
    "       \"Permittee's Business Name\", \"Permittee's Phone #\",\n",
    "       \"Permittee's License Type\", \"Permittee's License #\",\n",
    "       \"Act as Superintendent\", \"Permittee's Other Title\", \"HIC License\",\n",
    "       \"Site Safety Mgr's First Name\", \"Site Safety Mgr's Last Name\",\n",
    "       \"Site Safety Mgr Business Name\", \"Superintendent First & Last Name\",\n",
    "       \"Superintendent Business Name\", \"Owner's Business Type\", \"Non-Profit\",\n",
    "       \"Owner's Business Name\", \"Owner's First Name\", \"Owner's Last Name\",\n",
    "       \"Owner's House #\", \"Owner's House Street Name\", \"Owner’s House City\",\n",
    "       \"Owner’s House State\", \"Owner’s House Zip Code\", \"Owner's Phone #\",\n",
    "       \"DOBRunDate\"], axis=1)\n",
    "df.head()"
   ]
  },
  {
   "cell_type": "code",
   "execution_count": 7,
   "metadata": {},
   "outputs": [
    {
     "data": {
      "text/plain": [
       "BOROUGH             object\n",
       "Block              float64\n",
       "Lot                 object\n",
       "Community Board     object\n",
       "Zip Code            object\n",
       "Expiration Date     object\n",
       "Job Start Date      object\n",
       "dtype: object"
      ]
     },
     "execution_count": 7,
     "metadata": {},
     "output_type": "execute_result"
    }
   ],
   "source": [
    "df.dtypes"
   ]
  },
  {
   "cell_type": "code",
   "execution_count": 8,
   "metadata": {},
   "outputs": [],
   "source": [
    "df['Expiration Date'] = pd.to_datetime(df['Expiration Date'], format='%m/%d/%Y')\n",
    "df['Job Start Date'] = pd.to_datetime(df['Job Start Date'], format='%m/%d/%Y')"
   ]
  },
  {
   "cell_type": "code",
   "execution_count": 9,
   "metadata": {},
   "outputs": [
    {
     "data": {
      "text/plain": [
       "BOROUGH                    object\n",
       "Block                     float64\n",
       "Lot                        object\n",
       "Community Board            object\n",
       "Zip Code                   object\n",
       "Expiration Date    datetime64[ns]\n",
       "Job Start Date     datetime64[ns]\n",
       "dtype: object"
      ]
     },
     "execution_count": 9,
     "metadata": {},
     "output_type": "execute_result"
    }
   ],
   "source": [
    "df.dtypes"
   ]
  },
  {
   "cell_type": "code",
   "execution_count": 10,
   "metadata": {},
   "outputs": [
    {
     "data": {
      "text/plain": [
       "(834850, 7)"
      ]
     },
     "execution_count": 10,
     "metadata": {},
     "output_type": "execute_result"
    }
   ],
   "source": [
    "df.shape"
   ]
  },
  {
   "cell_type": "raw",
   "metadata": {},
   "source": [
    "df['Zip Code'] = df['Zip Code'].astype(str)"
   ]
  },
  {
   "cell_type": "code",
   "execution_count": 11,
   "metadata": {},
   "outputs": [],
   "source": [
    "df['Lot'] = pd.to_numeric(df['Lot'], errors='coerce')\n",
    "df['Community Board'] = pd.to_numeric(df['Community Board'], errors='coerce')"
   ]
  },
  {
   "cell_type": "code",
   "execution_count": 12,
   "metadata": {},
   "outputs": [
    {
     "data": {
      "text/plain": [
       "BOROUGH                    object\n",
       "Block                     float64\n",
       "Lot                       float64\n",
       "Community Board           float64\n",
       "Zip Code                   object\n",
       "Expiration Date    datetime64[ns]\n",
       "Job Start Date     datetime64[ns]\n",
       "dtype: object"
      ]
     },
     "execution_count": 12,
     "metadata": {},
     "output_type": "execute_result"
    }
   ],
   "source": [
    "df.dtypes"
   ]
  },
  {
   "cell_type": "code",
   "execution_count": 13,
   "metadata": {},
   "outputs": [
    {
     "data": {
      "text/html": [
       "<div>\n",
       "<style scoped>\n",
       "    .dataframe tbody tr th:only-of-type {\n",
       "        vertical-align: middle;\n",
       "    }\n",
       "\n",
       "    .dataframe tbody tr th {\n",
       "        vertical-align: top;\n",
       "    }\n",
       "\n",
       "    .dataframe thead th {\n",
       "        text-align: right;\n",
       "    }\n",
       "</style>\n",
       "<table border=\"1\" class=\"dataframe\">\n",
       "  <thead>\n",
       "    <tr style=\"text-align: right;\">\n",
       "      <th></th>\n",
       "      <th>BOROUGH</th>\n",
       "      <th>Block</th>\n",
       "      <th>Lot</th>\n",
       "      <th>Community Board</th>\n",
       "      <th>Zip Code</th>\n",
       "      <th>Expiration Date</th>\n",
       "      <th>Job Start Date</th>\n",
       "    </tr>\n",
       "  </thead>\n",
       "  <tbody>\n",
       "    <tr>\n",
       "      <th>0</th>\n",
       "      <td>QUEENS</td>\n",
       "      <td>3354.0</td>\n",
       "      <td>7501.0</td>\n",
       "      <td>409.0</td>\n",
       "      <td>11415</td>\n",
       "      <td>2016-07-01</td>\n",
       "      <td>2014-10-29</td>\n",
       "    </tr>\n",
       "    <tr>\n",
       "      <th>1</th>\n",
       "      <td>MANHATTAN</td>\n",
       "      <td>1060.0</td>\n",
       "      <td>0.0</td>\n",
       "      <td>104.0</td>\n",
       "      <td>10019</td>\n",
       "      <td>2014-08-22</td>\n",
       "      <td>2013-08-22</td>\n",
       "    </tr>\n",
       "    <tr>\n",
       "      <th>2</th>\n",
       "      <td>MANHATTAN</td>\n",
       "      <td>862.0</td>\n",
       "      <td>51.0</td>\n",
       "      <td>105.0</td>\n",
       "      <td>10016</td>\n",
       "      <td>2015-03-29</td>\n",
       "      <td>2013-11-18</td>\n",
       "    </tr>\n",
       "    <tr>\n",
       "      <th>3</th>\n",
       "      <td>MANHATTAN</td>\n",
       "      <td>1842.0</td>\n",
       "      <td>2.0</td>\n",
       "      <td>107.0</td>\n",
       "      <td>10025</td>\n",
       "      <td>2016-01-07</td>\n",
       "      <td>2015-06-03</td>\n",
       "    </tr>\n",
       "    <tr>\n",
       "      <th>4</th>\n",
       "      <td>MANHATTAN</td>\n",
       "      <td>1386.0</td>\n",
       "      <td>7501.0</td>\n",
       "      <td>108.0</td>\n",
       "      <td>10021</td>\n",
       "      <td>2015-09-12</td>\n",
       "      <td>2014-04-23</td>\n",
       "    </tr>\n",
       "  </tbody>\n",
       "</table>\n",
       "</div>"
      ],
      "text/plain": [
       "     BOROUGH   Block     Lot  Community Board Zip Code Expiration Date  \\\n",
       "0     QUEENS  3354.0  7501.0            409.0    11415      2016-07-01   \n",
       "1  MANHATTAN  1060.0     0.0            104.0    10019      2014-08-22   \n",
       "2  MANHATTAN   862.0    51.0            105.0    10016      2015-03-29   \n",
       "3  MANHATTAN  1842.0     2.0            107.0    10025      2016-01-07   \n",
       "4  MANHATTAN  1386.0  7501.0            108.0    10021      2015-09-12   \n",
       "\n",
       "  Job Start Date  \n",
       "0     2014-10-29  \n",
       "1     2013-08-22  \n",
       "2     2013-11-18  \n",
       "3     2015-06-03  \n",
       "4     2014-04-23  "
      ]
     },
     "execution_count": 13,
     "metadata": {},
     "output_type": "execute_result"
    }
   ],
   "source": [
    "df.head()"
   ]
  },
  {
   "cell_type": "code",
   "execution_count": 14,
   "metadata": {},
   "outputs": [],
   "source": [
    "df = df.dropna()"
   ]
  },
  {
   "cell_type": "code",
   "execution_count": 15,
   "metadata": {},
   "outputs": [],
   "source": [
    "#calculate days of construction\n",
    "df['job_days'] = df['Expiration Date'] - df['Job Start Date']\n",
    "df['job_days'] = df['job_days'].dt.days"
   ]
  },
  {
   "cell_type": "code",
   "execution_count": 16,
   "metadata": {},
   "outputs": [
    {
     "data": {
      "text/html": [
       "<div>\n",
       "<style scoped>\n",
       "    .dataframe tbody tr th:only-of-type {\n",
       "        vertical-align: middle;\n",
       "    }\n",
       "\n",
       "    .dataframe tbody tr th {\n",
       "        vertical-align: top;\n",
       "    }\n",
       "\n",
       "    .dataframe thead th {\n",
       "        text-align: right;\n",
       "    }\n",
       "</style>\n",
       "<table border=\"1\" class=\"dataframe\">\n",
       "  <thead>\n",
       "    <tr style=\"text-align: right;\">\n",
       "      <th></th>\n",
       "      <th>BOROUGH</th>\n",
       "      <th>Block</th>\n",
       "      <th>Lot</th>\n",
       "      <th>Community Board</th>\n",
       "      <th>Zip Code</th>\n",
       "      <th>Expiration Date</th>\n",
       "      <th>Job Start Date</th>\n",
       "      <th>job_days</th>\n",
       "    </tr>\n",
       "  </thead>\n",
       "  <tbody>\n",
       "    <tr>\n",
       "      <th>0</th>\n",
       "      <td>QUEENS</td>\n",
       "      <td>3354.0</td>\n",
       "      <td>7501.0</td>\n",
       "      <td>409.0</td>\n",
       "      <td>11415</td>\n",
       "      <td>2016-07-01</td>\n",
       "      <td>2014-10-29</td>\n",
       "      <td>611</td>\n",
       "    </tr>\n",
       "    <tr>\n",
       "      <th>1</th>\n",
       "      <td>MANHATTAN</td>\n",
       "      <td>1060.0</td>\n",
       "      <td>0.0</td>\n",
       "      <td>104.0</td>\n",
       "      <td>10019</td>\n",
       "      <td>2014-08-22</td>\n",
       "      <td>2013-08-22</td>\n",
       "      <td>365</td>\n",
       "    </tr>\n",
       "    <tr>\n",
       "      <th>2</th>\n",
       "      <td>MANHATTAN</td>\n",
       "      <td>862.0</td>\n",
       "      <td>51.0</td>\n",
       "      <td>105.0</td>\n",
       "      <td>10016</td>\n",
       "      <td>2015-03-29</td>\n",
       "      <td>2013-11-18</td>\n",
       "      <td>496</td>\n",
       "    </tr>\n",
       "    <tr>\n",
       "      <th>3</th>\n",
       "      <td>MANHATTAN</td>\n",
       "      <td>1842.0</td>\n",
       "      <td>2.0</td>\n",
       "      <td>107.0</td>\n",
       "      <td>10025</td>\n",
       "      <td>2016-01-07</td>\n",
       "      <td>2015-06-03</td>\n",
       "      <td>218</td>\n",
       "    </tr>\n",
       "    <tr>\n",
       "      <th>4</th>\n",
       "      <td>MANHATTAN</td>\n",
       "      <td>1386.0</td>\n",
       "      <td>7501.0</td>\n",
       "      <td>108.0</td>\n",
       "      <td>10021</td>\n",
       "      <td>2015-09-12</td>\n",
       "      <td>2014-04-23</td>\n",
       "      <td>507</td>\n",
       "    </tr>\n",
       "  </tbody>\n",
       "</table>\n",
       "</div>"
      ],
      "text/plain": [
       "     BOROUGH   Block     Lot  Community Board Zip Code Expiration Date  \\\n",
       "0     QUEENS  3354.0  7501.0            409.0    11415      2016-07-01   \n",
       "1  MANHATTAN  1060.0     0.0            104.0    10019      2014-08-22   \n",
       "2  MANHATTAN   862.0    51.0            105.0    10016      2015-03-29   \n",
       "3  MANHATTAN  1842.0     2.0            107.0    10025      2016-01-07   \n",
       "4  MANHATTAN  1386.0  7501.0            108.0    10021      2015-09-12   \n",
       "\n",
       "  Job Start Date  job_days  \n",
       "0     2014-10-29       611  \n",
       "1     2013-08-22       365  \n",
       "2     2013-11-18       496  \n",
       "3     2015-06-03       218  \n",
       "4     2014-04-23       507  "
      ]
     },
     "execution_count": 16,
     "metadata": {},
     "output_type": "execute_result"
    }
   ],
   "source": [
    "df.head()"
   ]
  },
  {
   "cell_type": "code",
   "execution_count": 17,
   "metadata": {},
   "outputs": [
    {
     "data": {
      "image/png": "[encoded data removed]",
      "text/plain": [
       "<matplotlib.figure.Figure at 0x104baab38>"
      ]
     },
     "metadata": {},
     "output_type": "display_data"
    }
   ],
   "source": [
    "plt.hist(df['job_days'], bins=200)\n",
    "plt.show()"
   ]
  },
  {
   "cell_type": "code",
   "execution_count": 18,
   "metadata": {},
   "outputs": [
    {
     "data": {
      "text/plain": [
       "count    832955.000000\n",
       "mean        496.606339\n",
       "std         908.138820\n",
       "min      -74144.000000\n",
       "25%         243.000000\n",
       "50%         365.000000\n",
       "75%         468.000000\n",
       "max       10422.000000\n",
       "Name: job_days, dtype: float64"
      ]
     },
     "execution_count": 18,
     "metadata": {},
     "output_type": "execute_result"
    }
   ],
   "source": [
    "df['job_days'].describe()"
   ]
  },
  {
   "cell_type": "code",
   "execution_count": 19,
   "metadata": {},
   "outputs": [
    {
     "data": {
      "text/plain": [
       "543"
      ]
     },
     "execution_count": 19,
     "metadata": {},
     "output_type": "execute_result"
    }
   ],
   "source": [
    "#cases job start day later than expiration day\n",
    "len(df['job_days'][df['job_days']<0])"
   ]
  },
  {
   "cell_type": "code",
   "execution_count": 20,
   "metadata": {},
   "outputs": [],
   "source": [
    "df = df[df['job_days']>0]\n",
    "df = df[df['job_days']<2000]"
   ]
  },
  {
   "cell_type": "code",
   "execution_count": 21,
   "metadata": {},
   "outputs": [
    {
     "data": {
      "image/png": "[encoded data removed]",
      "text/plain": [
       "<matplotlib.figure.Figure at 0x10d68a080>"
      ]
     },
     "metadata": {},
     "output_type": "display_data"
    }
   ],
   "source": [
    "plt.hist(df['job_days'], bins=200)\n",
    "plt.show()"
   ]
  },
  {
   "cell_type": "code",
   "execution_count": 22,
   "metadata": {},
   "outputs": [
    {
     "data": {
      "text/plain": [
       "253016"
      ]
     },
     "execution_count": 22,
     "metadata": {},
     "output_type": "execute_result"
    }
   ],
   "source": [
    "#cases last exactly 1 year\n",
    "len(df[df['job_days']==365])"
   ]
  },
  {
   "cell_type": "code",
   "execution_count": 23,
   "metadata": {},
   "outputs": [
    {
     "data": {
      "text/html": [
       "<div>\n",
       "<style scoped>\n",
       "    .dataframe tbody tr th:only-of-type {\n",
       "        vertical-align: middle;\n",
       "    }\n",
       "\n",
       "    .dataframe tbody tr th {\n",
       "        vertical-align: top;\n",
       "    }\n",
       "\n",
       "    .dataframe thead th {\n",
       "        text-align: right;\n",
       "    }\n",
       "</style>\n",
       "<table border=\"1\" class=\"dataframe\">\n",
       "  <thead>\n",
       "    <tr style=\"text-align: right;\">\n",
       "      <th></th>\n",
       "      <th>zip_code</th>\n",
       "      <th>case_count</th>\n",
       "    </tr>\n",
       "  </thead>\n",
       "  <tbody>\n",
       "    <tr>\n",
       "      <th>0</th>\n",
       "      <td>0</td>\n",
       "      <td>13</td>\n",
       "    </tr>\n",
       "    <tr>\n",
       "      <th>1</th>\n",
       "      <td>950</td>\n",
       "      <td>3</td>\n",
       "    </tr>\n",
       "    <tr>\n",
       "      <th>2</th>\n",
       "      <td>4452</td>\n",
       "      <td>2</td>\n",
       "    </tr>\n",
       "    <tr>\n",
       "      <th>3</th>\n",
       "      <td>10000</td>\n",
       "      <td>16</td>\n",
       "    </tr>\n",
       "    <tr>\n",
       "      <th>4</th>\n",
       "      <td>10001</td>\n",
       "      <td>12575</td>\n",
       "    </tr>\n",
       "  </tbody>\n",
       "</table>\n",
       "</div>"
      ],
      "text/plain": [
       "  zip_code  case_count\n",
       "0        0          13\n",
       "1      950           3\n",
       "2     4452           2\n",
       "3    10000          16\n",
       "4    10001       12575"
      ]
     },
     "execution_count": 23,
     "metadata": {},
     "output_type": "execute_result"
    }
   ],
   "source": [
    "#cases by zip code\n",
    "dfzip = df.groupby('Zip Code').count()\n",
    "dfzip.reset_index(inplace=True)\n",
    "dfzip = dfzip[['Zip Code', 'BOROUGH']]\n",
    "dfzip.rename(columns={'Zip Code': 'zip_code',\n",
    "                      'BOROUGH': 'case_count'}, inplace=True)\n",
    "dfzip.head()"
   ]
  },
  {
   "cell_type": "markdown",
   "metadata": {},
   "source": [
    "#### map"
   ]
  },
  {
   "cell_type": "code",
   "execution_count": 24,
   "metadata": {},
   "outputs": [],
   "source": [
    "os.system(\"curl -O http://catalog.civicdashboards.com/dataset/11fd957a-8885-42ef-aa49-5c879ec93fac/resource/28377e88-8a50-428f-807c-40ba1f09159b/download/nyc-zip-code-tabulation-areas-polygons.geojson\")\n",
    "os.system(\"mv \" + \"nyc-zip-code-tabulation-areas-polygons.geojson \" + os.getenv(\"PUIDATA\"))\n",
    "nyc = gpd.read_file(os.getenv(\"PUIDATA\") + \"/\" + 'nyc-zip-code-tabulation-areas-polygons.geojson')"
   ]
  },
  {
   "cell_type": "code",
   "execution_count": 25,
   "metadata": {},
   "outputs": [],
   "source": [
    "nyc['zip_code'] = nyc.postalCode.astype(str)\n",
    "nyc.drop(['OBJECTID', 'postalCode', 'PO_NAME', 'STATE', 'borough', 'ST_FIPS',\n",
    "          'CTY_FIPS', 'BLDGpostal', '@id', 'longitude', 'latitude'], axis=1, inplace=True)"
   ]
  },
  {
   "cell_type": "code",
   "execution_count": 26,
   "metadata": {},
   "outputs": [
    {
     "data": {
      "text/html": [
       "<div>\n",
       "<style scoped>\n",
       "    .dataframe tbody tr th:only-of-type {\n",
       "        vertical-align: middle;\n",
       "    }\n",
       "\n",
       "    .dataframe tbody tr th {\n",
       "        vertical-align: top;\n",
       "    }\n",
       "\n",
       "    .dataframe thead th {\n",
       "        text-align: right;\n",
       "    }\n",
       "</style>\n",
       "<table border=\"1\" class=\"dataframe\">\n",
       "  <thead>\n",
       "    <tr style=\"text-align: right;\">\n",
       "      <th></th>\n",
       "      <th>geometry</th>\n",
       "      <th>zip_code</th>\n",
       "      <th>case_count</th>\n",
       "    </tr>\n",
       "  </thead>\n",
       "  <tbody>\n",
       "    <tr>\n",
       "      <th>0</th>\n",
       "      <td>POLYGON ((-73.86942457284177 40.74915687096788...</td>\n",
       "      <td>11372</td>\n",
       "      <td>532</td>\n",
       "    </tr>\n",
       "    <tr>\n",
       "      <th>1</th>\n",
       "      <td>POLYGON ((-73.71132911125308 40.74947450816085...</td>\n",
       "      <td>11004</td>\n",
       "      <td>254</td>\n",
       "    </tr>\n",
       "    <tr>\n",
       "      <th>2</th>\n",
       "      <td>POLYGON ((-73.70098278625547 40.73889569923034...</td>\n",
       "      <td>11040</td>\n",
       "      <td>70</td>\n",
       "    </tr>\n",
       "    <tr>\n",
       "      <th>3</th>\n",
       "      <td>POLYGON ((-73.72270447144122 40.75373371438336...</td>\n",
       "      <td>11426</td>\n",
       "      <td>270</td>\n",
       "    </tr>\n",
       "    <tr>\n",
       "      <th>4</th>\n",
       "      <td>POLYGON ((-73.81088634744756 40.7271718757592,...</td>\n",
       "      <td>11365</td>\n",
       "      <td>584</td>\n",
       "    </tr>\n",
       "  </tbody>\n",
       "</table>\n",
       "</div>"
      ],
      "text/plain": [
       "                                            geometry zip_code  case_count\n",
       "0  POLYGON ((-73.86942457284177 40.74915687096788...    11372         532\n",
       "1  POLYGON ((-73.71132911125308 40.74947450816085...    11004         254\n",
       "2  POLYGON ((-73.70098278625547 40.73889569923034...    11040          70\n",
       "3  POLYGON ((-73.72270447144122 40.75373371438336...    11426         270\n",
       "4  POLYGON ((-73.81088634744756 40.7271718757592,...    11365         584"
      ]
     },
     "execution_count": 26,
     "metadata": {},
     "output_type": "execute_result"
    }
   ],
   "source": [
    "mapData = pd.merge(nyc, dfzip, on='zip_code').drop_duplicates('zip_code')\n",
    "mapData.head()"
   ]
  },
  {
   "cell_type": "code",
   "execution_count": 27,
   "metadata": {},
   "outputs": [],
   "source": [
    "mapData.crs = from_epsg(4326) #from lat/long\n",
    "mapData['geometry'] = nyc.to_crs(epsg=2263).geometry\n",
    "mapData = gpd.GeoDataFrame(mapData)"
   ]
  },
  {
   "cell_type": "code",
   "execution_count": 28,
   "metadata": {},
   "outputs": [
    {
     "data": {
      "image/png": "[encoded data removed]",
      "text/plain": [
       "<matplotlib.figure.Figure at 0x10d684f28>"
      ]
     },
     "metadata": {},
     "output_type": "display_data"
    }
   ],
   "source": [
    "name = 'case_count'\n",
    "ax = mapData.plot(column='{}'.format(name), cmap='BuPu', alpha=1)\n",
    "vmin, vmax = min(mapData['{}'.format(name)].values), max(mapData['{}'.format(name)].values)\n",
    "ax.axis('off')\n",
    "ax.set_title('Choropleth of {}'.format(name), size=20)\n",
    "fig = ax.get_figure()\n",
    "cax = fig.add_axes([0.9, 0.1, 0.03, 0.8])\n",
    "sm = plt.cm.ScalarMappable(cmap='BuPu', norm=plt.Normalize(vmin=vmin, vmax=vmax))\n",
    "sm._A = []\n",
    "fig.colorbar(sm, cax=cax)\n",
    "plt.savefig('Figure2', dpi=300, transparent=True)\n",
    "plt.show()"
   ]
  }
 ],
 "metadata": {
  "kernelspec": {
   "display_name": "Python 3",
   "language": "python",
   "name": "python3"
  },
  "language_info": {
   "codemirror_mode": {
    "name": "ipython",
    "version": 3
   },
   "file_extension": ".py",
   "mimetype": "text/x-python",
   "name": "python",
   "nbconvert_exporter": "python",
   "pygments_lexer": "ipython3",
   "version": "3.6.1"
  }
 },
 "nbformat": 4,
 "nbformat_minor": 2
}
