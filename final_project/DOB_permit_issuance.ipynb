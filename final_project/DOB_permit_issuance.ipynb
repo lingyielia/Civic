{
 "cells": [
  {
   "cell_type": "code",
   "execution_count": 1,
   "metadata": {},
   "outputs": [],
   "source": [
    "from __future__ import print_function, division\n",
    "%matplotlib inline\n",
    "import statsmodels.formula.api as smf  \n",
    "import matplotlib.pyplot as plt\n",
    "import matplotlib\n",
    "import pandas as pd\n",
    "import numpy as np\n",
    "import geopandas as gpd\n",
    "import os\n",
    "#import operator\n",
    "#import requests\n",
    "import sys\n",
    "from scipy import stats\n",
    "from fiona.crs import from_epsg"
   ]
  },
  {
   "cell_type": "code",
   "execution_count": 2,
   "metadata": {},
   "outputs": [],
   "source": [
    "matplotlib.rcParams['font.size'] = 12\n",
    "matplotlib.rcParams['figure.figsize'] = (12,10)"
   ]
  },
  {
   "cell_type": "raw",
   "metadata": {},
   "source": [
    "os.system(\"curl -O https://data.cityofnewyork.us/api/views/ipu4-2q9a/rows.csv\")\n",
    "os.system(\"mv \" + \"rows.csv \" + os.getenv(\"PUIDATA\"))"
   ]
  },
  {
   "cell_type": "raw",
   "metadata": {},
   "source": [
    "df = pd.read_csv(os.getenv(\"PUIDATA\") + \"/\" + \"rows.csv\")\n",
    "df.head()"
   ]
  },
  {
   "cell_type": "raw",
   "metadata": {},
   "source": [
    "df = df.drop([\"Bin #\", \"House #\", \"Street Name\", \"Job doc. #\",\n",
    "       \"Job #\", \"Self_Cert\", \"Work Type\",\n",
    "       \"Bldg Type\", \"Residential\", \"Special District 1\", \"Special District 2\",\n",
    "       \"Permit Status\", \"Filing Status\", \"Permit Type\",\n",
    "       \"Permit Sequence #\", \"Permit Subtype\", \"Oil Gas\", \"Site Fill\",\n",
    "       \"Filing Date\", \"Issuance Date\",\n",
    "       \"Permittee's First Name\", \"Permittee's Last Name\",\n",
    "       \"Permittee's Business Name\", \"Permittee's Phone #\",\n",
    "       \"Permittee's License Type\", \"Permittee's License #\",\n",
    "       \"Act as Superintendent\", \"Permittee's Other Title\", \"HIC License\",\n",
    "       \"Site Safety Mgr's First Name\", \"Site Safety Mgr's Last Name\",\n",
    "       \"Site Safety Mgr Business Name\", \"Superintendent First & Last Name\",\n",
    "       \"Superintendent Business Name\", \"Owner's Business Type\", \"Non-Profit\",\n",
    "       \"Owner's Business Name\", \"Owner's First Name\", \"Owner's Last Name\",\n",
    "       \"Owner's House #\", \"Owner's House Street Name\", \"Owner’s House City\",\n",
    "       \"Owner’s House State\", \"Owner’s House Zip Code\", \"Owner's Phone #\",\n",
    "       \"DOBRunDate\"], axis=1)\n",
    "df.head()"
   ]
  },
  {
   "cell_type": "code",
   "execution_count": 3,
   "metadata": {},
   "outputs": [],
   "source": [
    "#nyc open data API, you need apptoken to run this cell\n",
    "from sodapy import Socrata\n",
    "client = Socrata(\"data.cityofnewyork.us\", os.getenv(\"apptoken\"))"
   ]
  },
  {
   "cell_type": "code",
   "execution_count": 4,
   "metadata": {},
   "outputs": [
    {
     "data": {
      "text/html": [
       "<div>\n",
       "<style scoped>\n",
       "    .dataframe tbody tr th:only-of-type {\n",
       "        vertical-align: middle;\n",
       "    }\n",
       "\n",
       "    .dataframe tbody tr th {\n",
       "        vertical-align: top;\n",
       "    }\n",
       "\n",
       "    .dataframe thead th {\n",
       "        text-align: right;\n",
       "    }\n",
       "</style>\n",
       "<table border=\"1\" class=\"dataframe\">\n",
       "  <thead>\n",
       "    <tr style=\"text-align: right;\">\n",
       "      <th></th>\n",
       "      <th>expiration_date</th>\n",
       "      <th>gis_latitude</th>\n",
       "      <th>gis_longitude</th>\n",
       "      <th>job_start_date</th>\n",
       "      <th>job_type</th>\n",
       "      <th>zip_code</th>\n",
       "    </tr>\n",
       "  </thead>\n",
       "  <tbody>\n",
       "    <tr>\n",
       "      <th>0</th>\n",
       "      <td>09/16/2003</td>\n",
       "      <td>40.644203</td>\n",
       "      <td>-73.892264</td>\n",
       "      <td>07/27/2000</td>\n",
       "      <td>A2</td>\n",
       "      <td>11236</td>\n",
       "    </tr>\n",
       "    <tr>\n",
       "      <th>1</th>\n",
       "      <td>11/27/2013</td>\n",
       "      <td>40.682849</td>\n",
       "      <td>-73.947219</td>\n",
       "      <td>01/26/2006</td>\n",
       "      <td>A1</td>\n",
       "      <td>11216</td>\n",
       "    </tr>\n",
       "    <tr>\n",
       "      <th>2</th>\n",
       "      <td>10/01/1992</td>\n",
       "      <td>40.763075</td>\n",
       "      <td>-73.969695</td>\n",
       "      <td>11/27/1991</td>\n",
       "      <td>A3</td>\n",
       "      <td>10022</td>\n",
       "    </tr>\n",
       "    <tr>\n",
       "      <th>3</th>\n",
       "      <td>07/01/1997</td>\n",
       "      <td>40.756925</td>\n",
       "      <td>-73.972066</td>\n",
       "      <td>03/24/1997</td>\n",
       "      <td>A2</td>\n",
       "      <td>10022</td>\n",
       "    </tr>\n",
       "    <tr>\n",
       "      <th>4</th>\n",
       "      <td>03/30/2017</td>\n",
       "      <td>40.747535</td>\n",
       "      <td>-73.986372</td>\n",
       "      <td>09/21/2015</td>\n",
       "      <td>A2</td>\n",
       "      <td>10001</td>\n",
       "    </tr>\n",
       "  </tbody>\n",
       "</table>\n",
       "</div>"
      ],
      "text/plain": [
       "  expiration_date gis_latitude gis_longitude job_start_date job_type zip_code\n",
       "0      09/16/2003    40.644203    -73.892264     07/27/2000       A2    11236\n",
       "1      11/27/2013    40.682849    -73.947219     01/26/2006       A1    11216\n",
       "2      10/01/1992    40.763075    -73.969695     11/27/1991       A3    10022\n",
       "3      07/01/1997    40.756925    -73.972066     03/24/1997       A2    10022\n",
       "4      03/30/2017    40.747535    -73.986372     09/21/2015       A2    10001"
      ]
     },
     "execution_count": 4,
     "metadata": {},
     "output_type": "execute_result"
    }
   ],
   "source": [
    "results = client.get(\"83x8-shf7\",\n",
    "                     select = \"job_type, zip_code, job_start_date, expiration_date, gis_latitude, gis_longitude\",\n",
    "                     limit=4000000)\n",
    "df = pd.DataFrame.from_records(results)\n",
    "df.head()"
   ]
  },
  {
   "cell_type": "raw",
   "metadata": {},
   "source": [
    "df.to_csv('DOB_query.csv')"
   ]
  },
  {
   "cell_type": "code",
   "execution_count": 5,
   "metadata": {},
   "outputs": [],
   "source": [
    "df['expiration_date'] = pd.to_datetime(df['expiration_date'], errors='coerce', format='%m/%d/%Y')\n",
    "df['job_start_date'] = pd.to_datetime(df['job_start_date'], errors='coerce', format='%m/%d/%Y')"
   ]
  },
  {
   "cell_type": "code",
   "execution_count": 6,
   "metadata": {},
   "outputs": [
    {
     "data": {
      "text/plain": [
       "(3272137, 6)"
      ]
     },
     "execution_count": 6,
     "metadata": {},
     "output_type": "execute_result"
    }
   ],
   "source": [
    "df.shape"
   ]
  },
  {
   "cell_type": "code",
   "execution_count": 7,
   "metadata": {},
   "outputs": [
    {
     "data": {
      "text/plain": [
       "expiration_date    datetime64[ns]\n",
       "gis_latitude               object\n",
       "gis_longitude              object\n",
       "job_start_date     datetime64[ns]\n",
       "job_type                   object\n",
       "zip_code                   object\n",
       "dtype: object"
      ]
     },
     "execution_count": 7,
     "metadata": {},
     "output_type": "execute_result"
    }
   ],
   "source": [
    "df.dtypes"
   ]
  },
  {
   "cell_type": "raw",
   "metadata": {},
   "source": [
    "df['Zip Code'] = df['Zip Code'].astype(str)"
   ]
  },
  {
   "cell_type": "code",
   "execution_count": 8,
   "metadata": {},
   "outputs": [],
   "source": [
    "df = df[df['job_start_date']>'2014-12-31']"
   ]
  },
  {
   "cell_type": "code",
   "execution_count": 9,
   "metadata": {},
   "outputs": [
    {
     "data": {
      "text/html": [
       "<div>\n",
       "<style scoped>\n",
       "    .dataframe tbody tr th:only-of-type {\n",
       "        vertical-align: middle;\n",
       "    }\n",
       "\n",
       "    .dataframe tbody tr th {\n",
       "        vertical-align: top;\n",
       "    }\n",
       "\n",
       "    .dataframe thead th {\n",
       "        text-align: right;\n",
       "    }\n",
       "</style>\n",
       "<table border=\"1\" class=\"dataframe\">\n",
       "  <thead>\n",
       "    <tr style=\"text-align: right;\">\n",
       "      <th></th>\n",
       "      <th>expiration_date</th>\n",
       "      <th>gis_latitude</th>\n",
       "      <th>gis_longitude</th>\n",
       "      <th>job_start_date</th>\n",
       "      <th>job_type</th>\n",
       "      <th>zip_code</th>\n",
       "    </tr>\n",
       "  </thead>\n",
       "  <tbody>\n",
       "    <tr>\n",
       "      <th>4</th>\n",
       "      <td>2017-03-30</td>\n",
       "      <td>40.747535</td>\n",
       "      <td>-73.986372</td>\n",
       "      <td>2015-09-21</td>\n",
       "      <td>A2</td>\n",
       "      <td>10001</td>\n",
       "    </tr>\n",
       "    <tr>\n",
       "      <th>14</th>\n",
       "      <td>2016-10-21</td>\n",
       "      <td>40.687209</td>\n",
       "      <td>-73.929918</td>\n",
       "      <td>2015-10-22</td>\n",
       "      <td>NB</td>\n",
       "      <td>11221</td>\n",
       "    </tr>\n",
       "    <tr>\n",
       "      <th>30</th>\n",
       "      <td>2016-06-16</td>\n",
       "      <td>40.699463</td>\n",
       "      <td>-73.897855</td>\n",
       "      <td>2015-06-17</td>\n",
       "      <td>A3</td>\n",
       "      <td>11385</td>\n",
       "    </tr>\n",
       "    <tr>\n",
       "      <th>38</th>\n",
       "      <td>2017-10-05</td>\n",
       "      <td>40.660736</td>\n",
       "      <td>-73.849934</td>\n",
       "      <td>2016-03-03</td>\n",
       "      <td>A1</td>\n",
       "      <td>11414</td>\n",
       "    </tr>\n",
       "    <tr>\n",
       "      <th>39</th>\n",
       "      <td>2016-08-12</td>\n",
       "      <td>40.788266</td>\n",
       "      <td>-73.980727</td>\n",
       "      <td>2016-05-20</td>\n",
       "      <td>A2</td>\n",
       "      <td>10024</td>\n",
       "    </tr>\n",
       "  </tbody>\n",
       "</table>\n",
       "</div>"
      ],
      "text/plain": [
       "   expiration_date gis_latitude gis_longitude job_start_date job_type zip_code\n",
       "4       2017-03-30    40.747535    -73.986372     2015-09-21       A2    10001\n",
       "14      2016-10-21    40.687209    -73.929918     2015-10-22       NB    11221\n",
       "30      2016-06-16    40.699463    -73.897855     2015-06-17       A3    11385\n",
       "38      2017-10-05    40.660736    -73.849934     2016-03-03       A1    11414\n",
       "39      2016-08-12    40.788266    -73.980727     2016-05-20       A2    10024"
      ]
     },
     "execution_count": 9,
     "metadata": {},
     "output_type": "execute_result"
    }
   ],
   "source": [
    "df.head()"
   ]
  },
  {
   "cell_type": "code",
   "execution_count": 10,
   "metadata": {},
   "outputs": [],
   "source": [
    "df = df.dropna()"
   ]
  },
  {
   "cell_type": "code",
   "execution_count": 11,
   "metadata": {},
   "outputs": [],
   "source": [
    "#calculate days of construction\n",
    "df['job_days'] = df['expiration_date'] - df['job_start_date']\n",
    "df['job_days'] = df['job_days'].dt.days"
   ]
  },
  {
   "cell_type": "code",
   "execution_count": 12,
   "metadata": {},
   "outputs": [
    {
     "data": {
      "text/html": [
       "<div>\n",
       "<style scoped>\n",
       "    .dataframe tbody tr th:only-of-type {\n",
       "        vertical-align: middle;\n",
       "    }\n",
       "\n",
       "    .dataframe tbody tr th {\n",
       "        vertical-align: top;\n",
       "    }\n",
       "\n",
       "    .dataframe thead th {\n",
       "        text-align: right;\n",
       "    }\n",
       "</style>\n",
       "<table border=\"1\" class=\"dataframe\">\n",
       "  <thead>\n",
       "    <tr style=\"text-align: right;\">\n",
       "      <th></th>\n",
       "      <th>expiration_date</th>\n",
       "      <th>gis_latitude</th>\n",
       "      <th>gis_longitude</th>\n",
       "      <th>job_start_date</th>\n",
       "      <th>job_type</th>\n",
       "      <th>zip_code</th>\n",
       "      <th>job_days</th>\n",
       "    </tr>\n",
       "  </thead>\n",
       "  <tbody>\n",
       "    <tr>\n",
       "      <th>4</th>\n",
       "      <td>2017-03-30</td>\n",
       "      <td>40.747535</td>\n",
       "      <td>-73.986372</td>\n",
       "      <td>2015-09-21</td>\n",
       "      <td>A2</td>\n",
       "      <td>10001</td>\n",
       "      <td>556</td>\n",
       "    </tr>\n",
       "    <tr>\n",
       "      <th>14</th>\n",
       "      <td>2016-10-21</td>\n",
       "      <td>40.687209</td>\n",
       "      <td>-73.929918</td>\n",
       "      <td>2015-10-22</td>\n",
       "      <td>NB</td>\n",
       "      <td>11221</td>\n",
       "      <td>365</td>\n",
       "    </tr>\n",
       "    <tr>\n",
       "      <th>30</th>\n",
       "      <td>2016-06-16</td>\n",
       "      <td>40.699463</td>\n",
       "      <td>-73.897855</td>\n",
       "      <td>2015-06-17</td>\n",
       "      <td>A3</td>\n",
       "      <td>11385</td>\n",
       "      <td>365</td>\n",
       "    </tr>\n",
       "    <tr>\n",
       "      <th>38</th>\n",
       "      <td>2017-10-05</td>\n",
       "      <td>40.660736</td>\n",
       "      <td>-73.849934</td>\n",
       "      <td>2016-03-03</td>\n",
       "      <td>A1</td>\n",
       "      <td>11414</td>\n",
       "      <td>581</td>\n",
       "    </tr>\n",
       "    <tr>\n",
       "      <th>39</th>\n",
       "      <td>2016-08-12</td>\n",
       "      <td>40.788266</td>\n",
       "      <td>-73.980727</td>\n",
       "      <td>2016-05-20</td>\n",
       "      <td>A2</td>\n",
       "      <td>10024</td>\n",
       "      <td>84</td>\n",
       "    </tr>\n",
       "  </tbody>\n",
       "</table>\n",
       "</div>"
      ],
      "text/plain": [
       "   expiration_date gis_latitude gis_longitude job_start_date job_type  \\\n",
       "4       2017-03-30    40.747535    -73.986372     2015-09-21       A2   \n",
       "14      2016-10-21    40.687209    -73.929918     2015-10-22       NB   \n",
       "30      2016-06-16    40.699463    -73.897855     2015-06-17       A3   \n",
       "38      2017-10-05    40.660736    -73.849934     2016-03-03       A1   \n",
       "39      2016-08-12    40.788266    -73.980727     2016-05-20       A2   \n",
       "\n",
       "   zip_code  job_days  \n",
       "4     10001       556  \n",
       "14    11221       365  \n",
       "30    11385       365  \n",
       "38    11414       581  \n",
       "39    10024        84  "
      ]
     },
     "execution_count": 12,
     "metadata": {},
     "output_type": "execute_result"
    }
   ],
   "source": [
    "df.head()"
   ]
  },
  {
   "cell_type": "code",
   "execution_count": 13,
   "metadata": {},
   "outputs": [
    {
     "data": {
      "image/png": "[encoded data removed]",
      "text/plain": [
       "<matplotlib.figure.Figure at 0x1e69978d0>"
      ]
     },
     "metadata": {},
     "output_type": "display_data"
    }
   ],
   "source": [
    "plt.hist(df['job_days'], bins=200)\n",
    "plt.show()"
   ]
  },
  {
   "cell_type": "code",
   "execution_count": 14,
   "metadata": {},
   "outputs": [
    {
     "data": {
      "text/plain": [
       "count    464892.000000\n",
       "mean        307.494186\n",
       "std        1247.894671\n",
       "min      -79989.000000\n",
       "25%         214.000000\n",
       "50%         365.000000\n",
       "75%         365.000000\n",
       "max        1444.000000\n",
       "Name: job_days, dtype: float64"
      ]
     },
     "execution_count": 14,
     "metadata": {},
     "output_type": "execute_result"
    }
   ],
   "source": [
    "df['job_days'].describe()"
   ]
  },
  {
   "cell_type": "code",
   "execution_count": 15,
   "metadata": {},
   "outputs": [
    {
     "data": {
      "text/plain": [
       "792"
      ]
     },
     "execution_count": 15,
     "metadata": {},
     "output_type": "execute_result"
    }
   ],
   "source": [
    "#cases job start day later than expiration day\n",
    "len(df['job_days'][df['job_days']<0])"
   ]
  },
  {
   "cell_type": "code",
   "execution_count": 16,
   "metadata": {},
   "outputs": [],
   "source": [
    "df = df[df['job_days']>0]\n",
    "df = df[df['job_days']<2000]"
   ]
  },
  {
   "cell_type": "code",
   "execution_count": 17,
   "metadata": {},
   "outputs": [
    {
     "data": {
      "image/png": "[encoded data removed]",
      "text/plain": [
       "<matplotlib.figure.Figure at 0x10606d080>"
      ]
     },
     "metadata": {},
     "output_type": "display_data"
    }
   ],
   "source": [
    "plt.hist(df['job_days'], bins=200)\n",
    "plt.show()"
   ]
  },
  {
   "cell_type": "code",
   "execution_count": 18,
   "metadata": {},
   "outputs": [
    {
     "data": {
      "text/plain": [
       "161554"
      ]
     },
     "execution_count": 18,
     "metadata": {},
     "output_type": "execute_result"
    }
   ],
   "source": [
    "#cases last exactly 1 year\n",
    "len(df[df['job_days']==365])"
   ]
  },
  {
   "cell_type": "code",
   "execution_count": 19,
   "metadata": {},
   "outputs": [
    {
     "data": {
      "text/html": [
       "<div>\n",
       "<style scoped>\n",
       "    .dataframe tbody tr th:only-of-type {\n",
       "        vertical-align: middle;\n",
       "    }\n",
       "\n",
       "    .dataframe tbody tr th {\n",
       "        vertical-align: top;\n",
       "    }\n",
       "\n",
       "    .dataframe thead th {\n",
       "        text-align: right;\n",
       "    }\n",
       "</style>\n",
       "<table border=\"1\" class=\"dataframe\">\n",
       "  <thead>\n",
       "    <tr style=\"text-align: right;\">\n",
       "      <th></th>\n",
       "      <th>zip_code</th>\n",
       "      <th>case_count</th>\n",
       "    </tr>\n",
       "  </thead>\n",
       "  <tbody>\n",
       "    <tr>\n",
       "      <th>0</th>\n",
       "      <td>00000</td>\n",
       "      <td>30</td>\n",
       "    </tr>\n",
       "    <tr>\n",
       "      <th>1</th>\n",
       "      <td>10000</td>\n",
       "      <td>16</td>\n",
       "    </tr>\n",
       "    <tr>\n",
       "      <th>2</th>\n",
       "      <td>10001</td>\n",
       "      <td>8518</td>\n",
       "    </tr>\n",
       "    <tr>\n",
       "      <th>3</th>\n",
       "      <td>10002</td>\n",
       "      <td>5342</td>\n",
       "    </tr>\n",
       "    <tr>\n",
       "      <th>4</th>\n",
       "      <td>10003</td>\n",
       "      <td>8256</td>\n",
       "    </tr>\n",
       "  </tbody>\n",
       "</table>\n",
       "</div>"
      ],
      "text/plain": [
       "  zip_code  case_count\n",
       "0    00000          30\n",
       "1    10000          16\n",
       "2    10001        8518\n",
       "3    10002        5342\n",
       "4    10003        8256"
      ]
     },
     "execution_count": 19,
     "metadata": {},
     "output_type": "execute_result"
    }
   ],
   "source": [
    "#cases by zip code\n",
    "dfzip = df.groupby('zip_code').count()\n",
    "dfzip.reset_index(inplace=True)\n",
    "dfzip = dfzip[['zip_code', 'job_type']]\n",
    "dfzip.rename(columns={'job_type': 'case_count'}, inplace=True)\n",
    "dfzip.head()"
   ]
  },
  {
   "cell_type": "code",
   "execution_count": 20,
   "metadata": {},
   "outputs": [],
   "source": [
    "dfzip.to_csv('DOB_counts_since2015_byzipcode.csv')"
   ]
  },
  {
   "cell_type": "markdown",
   "metadata": {},
   "source": [
    "#### map"
   ]
  },
  {
   "cell_type": "code",
   "execution_count": 21,
   "metadata": {},
   "outputs": [],
   "source": [
    "os.system(\"curl -O http://catalog.civicdashboards.com/dataset/11fd957a-8885-42ef-aa49-5c879ec93fac/resource/28377e88-8a50-428f-807c-40ba1f09159b/download/nyc-zip-code-tabulation-areas-polygons.geojson\")\n",
    "os.system(\"mv \" + \"nyc-zip-code-tabulation-areas-polygons.geojson \" + os.getenv(\"PUIDATA\"))\n",
    "nyc = gpd.read_file(os.getenv(\"PUIDATA\") + \"/\" + 'nyc-zip-code-tabulation-areas-polygons.geojson')"
   ]
  },
  {
   "cell_type": "code",
   "execution_count": 22,
   "metadata": {},
   "outputs": [],
   "source": [
    "nyc['zip_code'] = nyc.postalCode.astype(str)\n",
    "nyc.drop(['OBJECTID', 'postalCode', 'PO_NAME', 'STATE', 'borough', 'ST_FIPS',\n",
    "          'CTY_FIPS', 'BLDGpostal', '@id', 'longitude', 'latitude'], axis=1, inplace=True)"
   ]
  },
  {
   "cell_type": "code",
   "execution_count": 23,
   "metadata": {},
   "outputs": [
    {
     "data": {
      "text/html": [
       "<div>\n",
       "<style scoped>\n",
       "    .dataframe tbody tr th:only-of-type {\n",
       "        vertical-align: middle;\n",
       "    }\n",
       "\n",
       "    .dataframe tbody tr th {\n",
       "        vertical-align: top;\n",
       "    }\n",
       "\n",
       "    .dataframe thead th {\n",
       "        text-align: right;\n",
       "    }\n",
       "</style>\n",
       "<table border=\"1\" class=\"dataframe\">\n",
       "  <thead>\n",
       "    <tr style=\"text-align: right;\">\n",
       "      <th></th>\n",
       "      <th>geometry</th>\n",
       "      <th>zip_code</th>\n",
       "      <th>case_count</th>\n",
       "    </tr>\n",
       "  </thead>\n",
       "  <tbody>\n",
       "    <tr>\n",
       "      <th>0</th>\n",
       "      <td>POLYGON ((-73.86942457284177 40.74915687096788...</td>\n",
       "      <td>11372</td>\n",
       "      <td>1771</td>\n",
       "    </tr>\n",
       "    <tr>\n",
       "      <th>1</th>\n",
       "      <td>POLYGON ((-73.71132911125308 40.74947450816085...</td>\n",
       "      <td>11004</td>\n",
       "      <td>731</td>\n",
       "    </tr>\n",
       "    <tr>\n",
       "      <th>2</th>\n",
       "      <td>POLYGON ((-73.70098278625547 40.73889569923034...</td>\n",
       "      <td>11040</td>\n",
       "      <td>168</td>\n",
       "    </tr>\n",
       "    <tr>\n",
       "      <th>3</th>\n",
       "      <td>POLYGON ((-73.72270447144122 40.75373371438336...</td>\n",
       "      <td>11426</td>\n",
       "      <td>714</td>\n",
       "    </tr>\n",
       "    <tr>\n",
       "      <th>4</th>\n",
       "      <td>POLYGON ((-73.81088634744756 40.7271718757592,...</td>\n",
       "      <td>11365</td>\n",
       "      <td>1862</td>\n",
       "    </tr>\n",
       "  </tbody>\n",
       "</table>\n",
       "</div>"
      ],
      "text/plain": [
       "                                            geometry zip_code  case_count\n",
       "0  POLYGON ((-73.86942457284177 40.74915687096788...    11372        1771\n",
       "1  POLYGON ((-73.71132911125308 40.74947450816085...    11004         731\n",
       "2  POLYGON ((-73.70098278625547 40.73889569923034...    11040         168\n",
       "3  POLYGON ((-73.72270447144122 40.75373371438336...    11426         714\n",
       "4  POLYGON ((-73.81088634744756 40.7271718757592,...    11365        1862"
      ]
     },
     "execution_count": 23,
     "metadata": {},
     "output_type": "execute_result"
    }
   ],
   "source": [
    "mapData = pd.merge(nyc, dfzip, on='zip_code').drop_duplicates('zip_code')\n",
    "mapData.head()"
   ]
  },
  {
   "cell_type": "code",
   "execution_count": 24,
   "metadata": {},
   "outputs": [],
   "source": [
    "mapData.crs = from_epsg(4326) #from lat/long\n",
    "mapData['geometry'] = nyc.to_crs(epsg=2263).geometry\n",
    "mapData = gpd.GeoDataFrame(mapData)"
   ]
  },
  {
   "cell_type": "code",
   "execution_count": 25,
   "metadata": {},
   "outputs": [
    {
     "data": {
      "image/png": "[encoded data removed]",
      "text/plain": [
       "<matplotlib.figure.Figure at 0x1131f4940>"
      ]
     },
     "metadata": {},
     "output_type": "display_data"
    }
   ],
   "source": [
    "name = 'case_count'\n",
    "ax = mapData.plot(column='{}'.format(name), cmap='BuPu', alpha=1)\n",
    "vmin, vmax = min(mapData['{}'.format(name)].values), max(mapData['{}'.format(name)].values)\n",
    "ax.axis('off')\n",
    "ax.set_title('Choropleth of {}'.format(name), size=20)\n",
    "fig = ax.get_figure()\n",
    "cax = fig.add_axes([0.9, 0.1, 0.03, 0.8])\n",
    "sm = plt.cm.ScalarMappable(cmap='BuPu', norm=plt.Normalize(vmin=vmin, vmax=vmax))\n",
    "sm._A = []\n",
    "fig.colorbar(sm, cax=cax)\n",
    "plt.savefig('DOB_cases', dpi=300, transparent=True)\n",
    "plt.show()"
   ]
  }
 ],
 "metadata": {
  "kernelspec": {
   "display_name": "Python 3",
   "language": "python",
   "name": "python3"
  },
  "language_info": {
   "codemirror_mode": {
    "name": "ipython",
    "version": 3
   },
   "file_extension": ".py",
   "mimetype": "text/x-python",
   "name": "python",
   "nbconvert_exporter": "python",
   "pygments_lexer": "ipython3",
   "version": "3.6.1"
  }
 },
 "nbformat": 4,
 "nbformat_minor": 2
}
