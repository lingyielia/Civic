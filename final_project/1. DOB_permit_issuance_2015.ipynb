{
 "cells": [
  {
   "cell_type": "code",
   "execution_count": 1,
   "metadata": {},
   "outputs": [],
   "source": [
    "from __future__ import print_function, division\n",
    "%matplotlib inline\n",
    "import statsmodels.formula.api as smf  \n",
    "import matplotlib.pyplot as plt\n",
    "import matplotlib\n",
    "import pandas as pd\n",
    "import numpy as np\n",
    "import geopandas as gpd\n",
    "import os\n",
    "#import operator\n",
    "#import requests\n",
    "import sys\n",
    "from scipy import stats\n",
    "from fiona.crs import from_epsg"
   ]
  },
  {
   "cell_type": "code",
   "execution_count": 2,
   "metadata": {},
   "outputs": [],
   "source": [
    "matplotlib.rcParams['font.size'] = 12\n",
    "matplotlib.rcParams['figure.figsize'] = (12,10)"
   ]
  },
  {
   "cell_type": "raw",
   "metadata": {},
   "source": [
    "os.system(\"curl -O https://data.cityofnewyork.us/api/views/ipu4-2q9a/rows.csv\")\n",
    "os.system(\"mv \" + \"rows.csv \" + os.getenv(\"PUIDATA\"))"
   ]
  },
  {
   "cell_type": "raw",
   "metadata": {},
   "source": [
    "df = pd.read_csv(os.getenv(\"PUIDATA\") + \"/\" + \"rows.csv\")\n",
    "df.head()"
   ]
  },
  {
   "cell_type": "raw",
   "metadata": {},
   "source": [
    "df = df.drop([\"Bin #\", \"House #\", \"Street Name\", \"Job doc. #\",\n",
    "       \"Job #\", \"Self_Cert\", \"Work Type\",\n",
    "       \"Bldg Type\", \"Residential\", \"Special District 1\", \"Special District 2\",\n",
    "       \"Permit Status\", \"Filing Status\", \"Permit Type\",\n",
    "       \"Permit Sequence #\", \"Permit Subtype\", \"Oil Gas\", \"Site Fill\",\n",
    "       \"Filing Date\", \"Issuance Date\",\n",
    "       \"Permittee's First Name\", \"Permittee's Last Name\",\n",
    "       \"Permittee's Business Name\", \"Permittee's Phone #\",\n",
    "       \"Permittee's License Type\", \"Permittee's License #\",\n",
    "       \"Act as Superintendent\", \"Permittee's Other Title\", \"HIC License\",\n",
    "       \"Site Safety Mgr's First Name\", \"Site Safety Mgr's Last Name\",\n",
    "       \"Site Safety Mgr Business Name\", \"Superintendent First & Last Name\",\n",
    "       \"Superintendent Business Name\", \"Owner's Business Type\", \"Non-Profit\",\n",
    "       \"Owner's Business Name\", \"Owner's First Name\", \"Owner's Last Name\",\n",
    "       \"Owner's House #\", \"Owner's House Street Name\", \"Owner’s House City\",\n",
    "       \"Owner’s House State\", \"Owner’s House Zip Code\", \"Owner's Phone #\",\n",
    "       \"DOBRunDate\"], axis=1)\n",
    "df.head()"
   ]
  },
  {
   "cell_type": "code",
   "execution_count": 3,
   "metadata": {},
   "outputs": [],
   "source": [
    "#nyc open data API, you need apptoken to run this cell\n",
    "from sodapy import Socrata\n",
    "client = Socrata(\"data.cityofnewyork.us\", os.getenv(\"apptoken\"))"
   ]
  },
  {
   "cell_type": "code",
   "execution_count": 4,
   "metadata": {},
   "outputs": [
    {
     "data": {
      "text/html": [
       "<div>\n",
       "<style scoped>\n",
       "    .dataframe tbody tr th:only-of-type {\n",
       "        vertical-align: middle;\n",
       "    }\n",
       "\n",
       "    .dataframe tbody tr th {\n",
       "        vertical-align: top;\n",
       "    }\n",
       "\n",
       "    .dataframe thead th {\n",
       "        text-align: right;\n",
       "    }\n",
       "</style>\n",
       "<table border=\"1\" class=\"dataframe\">\n",
       "  <thead>\n",
       "    <tr style=\"text-align: right;\">\n",
       "      <th></th>\n",
       "      <th>expiration_date</th>\n",
       "      <th>gis_latitude</th>\n",
       "      <th>gis_longitude</th>\n",
       "      <th>job_start_date</th>\n",
       "      <th>job_type</th>\n",
       "      <th>zip_code</th>\n",
       "    </tr>\n",
       "  </thead>\n",
       "  <tbody>\n",
       "    <tr>\n",
       "      <th>0</th>\n",
       "      <td>09/16/2003</td>\n",
       "      <td>40.644203</td>\n",
       "      <td>-73.892264</td>\n",
       "      <td>07/27/2000</td>\n",
       "      <td>A2</td>\n",
       "      <td>11236</td>\n",
       "    </tr>\n",
       "    <tr>\n",
       "      <th>1</th>\n",
       "      <td>11/27/2013</td>\n",
       "      <td>40.682849</td>\n",
       "      <td>-73.947219</td>\n",
       "      <td>01/26/2006</td>\n",
       "      <td>A1</td>\n",
       "      <td>11216</td>\n",
       "    </tr>\n",
       "    <tr>\n",
       "      <th>2</th>\n",
       "      <td>10/01/1992</td>\n",
       "      <td>40.763075</td>\n",
       "      <td>-73.969695</td>\n",
       "      <td>11/27/1991</td>\n",
       "      <td>A3</td>\n",
       "      <td>10022</td>\n",
       "    </tr>\n",
       "    <tr>\n",
       "      <th>3</th>\n",
       "      <td>07/01/1997</td>\n",
       "      <td>40.756925</td>\n",
       "      <td>-73.972066</td>\n",
       "      <td>03/24/1997</td>\n",
       "      <td>A2</td>\n",
       "      <td>10022</td>\n",
       "    </tr>\n",
       "    <tr>\n",
       "      <th>4</th>\n",
       "      <td>03/30/2017</td>\n",
       "      <td>40.747535</td>\n",
       "      <td>-73.986372</td>\n",
       "      <td>09/21/2015</td>\n",
       "      <td>A2</td>\n",
       "      <td>10001</td>\n",
       "    </tr>\n",
       "  </tbody>\n",
       "</table>\n",
       "</div>"
      ],
      "text/plain": [
       "  expiration_date gis_latitude gis_longitude job_start_date job_type zip_code\n",
       "0      09/16/2003    40.644203    -73.892264     07/27/2000       A2    11236\n",
       "1      11/27/2013    40.682849    -73.947219     01/26/2006       A1    11216\n",
       "2      10/01/1992    40.763075    -73.969695     11/27/1991       A3    10022\n",
       "3      07/01/1997    40.756925    -73.972066     03/24/1997       A2    10022\n",
       "4      03/30/2017    40.747535    -73.986372     09/21/2015       A2    10001"
      ]
     },
     "execution_count": 4,
     "metadata": {},
     "output_type": "execute_result"
    }
   ],
   "source": [
    "results = client.get(\"83x8-shf7\",\n",
    "                     select = \"job_type, zip_code, job_start_date, expiration_date, gis_latitude, gis_longitude\",\n",
    "                     limit=4000000)\n",
    "df = pd.DataFrame.from_records(results)\n",
    "df.head()"
   ]
  },
  {
   "cell_type": "raw",
   "metadata": {},
   "source": [
    "df.to_csv('DOB_query.csv')"
   ]
  },
  {
   "cell_type": "code",
   "execution_count": 5,
   "metadata": {},
   "outputs": [],
   "source": [
    "df['expiration_date'] = pd.to_datetime(df['expiration_date'], errors='coerce', format='%m/%d/%Y')\n",
    "df['job_start_date'] = pd.to_datetime(df['job_start_date'], errors='coerce', format='%m/%d/%Y')"
   ]
  },
  {
   "cell_type": "code",
   "execution_count": 6,
   "metadata": {},
   "outputs": [
    {
     "data": {
      "text/plain": [
       "(3279416, 6)"
      ]
     },
     "execution_count": 6,
     "metadata": {},
     "output_type": "execute_result"
    }
   ],
   "source": [
    "df.shape"
   ]
  },
  {
   "cell_type": "code",
   "execution_count": 7,
   "metadata": {},
   "outputs": [
    {
     "data": {
      "text/plain": [
       "expiration_date    datetime64[ns]\n",
       "gis_latitude               object\n",
       "gis_longitude              object\n",
       "job_start_date     datetime64[ns]\n",
       "job_type                   object\n",
       "zip_code                   object\n",
       "dtype: object"
      ]
     },
     "execution_count": 7,
     "metadata": {},
     "output_type": "execute_result"
    }
   ],
   "source": [
    "df.dtypes"
   ]
  },
  {
   "cell_type": "code",
   "execution_count": 8,
   "metadata": {},
   "outputs": [],
   "source": [
    "df = df.dropna()"
   ]
  },
  {
   "cell_type": "code",
   "execution_count": 9,
   "metadata": {},
   "outputs": [],
   "source": [
    "#calculate days of construction\n",
    "df['job_days'] = df['expiration_date'] - df['job_start_date']\n",
    "df['job_days'] = df['job_days'].dt.days"
   ]
  },
  {
   "cell_type": "code",
   "execution_count": 10,
   "metadata": {},
   "outputs": [
    {
     "data": {
      "text/html": [
       "<div>\n",
       "<style scoped>\n",
       "    .dataframe tbody tr th:only-of-type {\n",
       "        vertical-align: middle;\n",
       "    }\n",
       "\n",
       "    .dataframe tbody tr th {\n",
       "        vertical-align: top;\n",
       "    }\n",
       "\n",
       "    .dataframe thead th {\n",
       "        text-align: right;\n",
       "    }\n",
       "</style>\n",
       "<table border=\"1\" class=\"dataframe\">\n",
       "  <thead>\n",
       "    <tr style=\"text-align: right;\">\n",
       "      <th></th>\n",
       "      <th>expiration_date</th>\n",
       "      <th>gis_latitude</th>\n",
       "      <th>gis_longitude</th>\n",
       "      <th>job_start_date</th>\n",
       "      <th>job_type</th>\n",
       "      <th>zip_code</th>\n",
       "      <th>job_days</th>\n",
       "    </tr>\n",
       "  </thead>\n",
       "  <tbody>\n",
       "    <tr>\n",
       "      <th>0</th>\n",
       "      <td>2003-09-16</td>\n",
       "      <td>40.644203</td>\n",
       "      <td>-73.892264</td>\n",
       "      <td>2000-07-27</td>\n",
       "      <td>A2</td>\n",
       "      <td>11236</td>\n",
       "      <td>1146</td>\n",
       "    </tr>\n",
       "    <tr>\n",
       "      <th>1</th>\n",
       "      <td>2013-11-27</td>\n",
       "      <td>40.682849</td>\n",
       "      <td>-73.947219</td>\n",
       "      <td>2006-01-26</td>\n",
       "      <td>A1</td>\n",
       "      <td>11216</td>\n",
       "      <td>2862</td>\n",
       "    </tr>\n",
       "    <tr>\n",
       "      <th>2</th>\n",
       "      <td>1992-10-01</td>\n",
       "      <td>40.763075</td>\n",
       "      <td>-73.969695</td>\n",
       "      <td>1991-11-27</td>\n",
       "      <td>A3</td>\n",
       "      <td>10022</td>\n",
       "      <td>309</td>\n",
       "    </tr>\n",
       "    <tr>\n",
       "      <th>3</th>\n",
       "      <td>1997-07-01</td>\n",
       "      <td>40.756925</td>\n",
       "      <td>-73.972066</td>\n",
       "      <td>1997-03-24</td>\n",
       "      <td>A2</td>\n",
       "      <td>10022</td>\n",
       "      <td>99</td>\n",
       "    </tr>\n",
       "    <tr>\n",
       "      <th>4</th>\n",
       "      <td>2017-03-30</td>\n",
       "      <td>40.747535</td>\n",
       "      <td>-73.986372</td>\n",
       "      <td>2015-09-21</td>\n",
       "      <td>A2</td>\n",
       "      <td>10001</td>\n",
       "      <td>556</td>\n",
       "    </tr>\n",
       "  </tbody>\n",
       "</table>\n",
       "</div>"
      ],
      "text/plain": [
       "  expiration_date gis_latitude gis_longitude job_start_date job_type zip_code  \\\n",
       "0      2003-09-16    40.644203    -73.892264     2000-07-27       A2    11236   \n",
       "1      2013-11-27    40.682849    -73.947219     2006-01-26       A1    11216   \n",
       "2      1992-10-01    40.763075    -73.969695     1991-11-27       A3    10022   \n",
       "3      1997-07-01    40.756925    -73.972066     1997-03-24       A2    10022   \n",
       "4      2017-03-30    40.747535    -73.986372     2015-09-21       A2    10001   \n",
       "\n",
       "   job_days  \n",
       "0      1146  \n",
       "1      2862  \n",
       "2       309  \n",
       "3        99  \n",
       "4       556  "
      ]
     },
     "execution_count": 10,
     "metadata": {},
     "output_type": "execute_result"
    }
   ],
   "source": [
    "df.head()"
   ]
  },
  {
   "cell_type": "code",
   "execution_count": 11,
   "metadata": {},
   "outputs": [
    {
     "data": {
      "image/png": "[encoded data removed]",
      "text/plain": [
       "<matplotlib.figure.Figure at 0x1e71f0a20>"
      ]
     },
     "metadata": {},
     "output_type": "display_data"
    }
   ],
   "source": [
    "plt.hist(df['job_days'], bins=200)\n",
    "plt.show()"
   ]
  },
  {
   "cell_type": "code",
   "execution_count": 12,
   "metadata": {},
   "outputs": [
    {
     "data": {
      "text/plain": [
       "count    3.258129e+06\n",
       "mean     4.208742e+02\n",
       "std      7.102354e+02\n",
       "min     -7.998900e+04\n",
       "25%      1.960000e+02\n",
       "50%      3.640000e+02\n",
       "75%      3.850000e+02\n",
       "max      7.355100e+04\n",
       "Name: job_days, dtype: float64"
      ]
     },
     "execution_count": 12,
     "metadata": {},
     "output_type": "execute_result"
    }
   ],
   "source": [
    "df['job_days'].describe()"
   ]
  },
  {
   "cell_type": "code",
   "execution_count": 13,
   "metadata": {},
   "outputs": [
    {
     "data": {
      "text/plain": [
       "2635"
      ]
     },
     "execution_count": 13,
     "metadata": {},
     "output_type": "execute_result"
    }
   ],
   "source": [
    "#cases job start day later than expiration day\n",
    "len(df['job_days'][df['job_days']<0])"
   ]
  },
  {
   "cell_type": "code",
   "execution_count": 14,
   "metadata": {},
   "outputs": [
    {
     "data": {
      "text/plain": [
       "766816"
      ]
     },
     "execution_count": 14,
     "metadata": {},
     "output_type": "execute_result"
    }
   ],
   "source": [
    "#cases last exactly 1 year\n",
    "len(df[df['job_days']==365])"
   ]
  },
  {
   "cell_type": "code",
   "execution_count": 15,
   "metadata": {},
   "outputs": [],
   "source": [
    "df = df[df['job_days']>0]\n",
    "#df = df[df['job_days']<2000]"
   ]
  },
  {
   "cell_type": "code",
   "execution_count": 16,
   "metadata": {},
   "outputs": [],
   "source": [
    "df = df[df['expiration_date'] > '2015-01-01']\n",
    "df = df[df['job_start_date'] < '2016-01-01']"
   ]
  },
  {
   "cell_type": "code",
   "execution_count": 17,
   "metadata": {},
   "outputs": [],
   "source": [
    "df.reset_index(inplace=True)"
   ]
  },
  {
   "cell_type": "code",
   "execution_count": 18,
   "metadata": {},
   "outputs": [
    {
     "data": {
      "text/plain": [
       "(390595, 8)"
      ]
     },
     "execution_count": 18,
     "metadata": {},
     "output_type": "execute_result"
    }
   ],
   "source": [
    "df.shape"
   ]
  },
  {
   "cell_type": "raw",
   "metadata": {},
   "source": [
    "d = {'impact_start_date': np.zeros(len(df)), 'impact_end_date': np.zeros(len(df))}\n",
    "dfnew = pd.DataFrame(data=d)\n",
    "dfnew.head()                                                                         "
   ]
  },
  {
   "cell_type": "raw",
   "metadata": {},
   "source": [
    "df = pd.concat([df, dfnew], axis=1)\n",
    "df.head()"
   ]
  },
  {
   "cell_type": "code",
   "execution_count": 19,
   "metadata": {},
   "outputs": [
    {
     "name": "stderr",
     "output_type": "stream",
     "text": [
      "/Library/Frameworks/Python.framework/Versions/3.6/lib/python3.6/site-packages/ipykernel_launcher.py:2: SettingWithCopyWarning: \n",
      "A value is trying to be set on a copy of a slice from a DataFrame.\n",
      "Try using .loc[row_indexer,col_indexer] = value instead\n",
      "\n",
      "See the caveats in the documentation: http://pandas.pydata.org/pandas-docs/stable/indexing.html#indexing-view-versus-copy\n",
      "  \n"
     ]
    }
   ],
   "source": [
    "df1 = df[df['job_start_date'] < '2015-01-01']\n",
    "df1['impact_start_date'] = pd.Timestamp('2015-01-01')"
   ]
  },
  {
   "cell_type": "code",
   "execution_count": 20,
   "metadata": {},
   "outputs": [
    {
     "name": "stderr",
     "output_type": "stream",
     "text": [
      "/Library/Frameworks/Python.framework/Versions/3.6/lib/python3.6/site-packages/ipykernel_launcher.py:2: SettingWithCopyWarning: \n",
      "A value is trying to be set on a copy of a slice from a DataFrame.\n",
      "Try using .loc[row_indexer,col_indexer] = value instead\n",
      "\n",
      "See the caveats in the documentation: http://pandas.pydata.org/pandas-docs/stable/indexing.html#indexing-view-versus-copy\n",
      "  \n"
     ]
    }
   ],
   "source": [
    "df2 = df[df['job_start_date'] >= '2015-01-01']\n",
    "df2['impact_start_date'] = df2['job_start_date']"
   ]
  },
  {
   "cell_type": "code",
   "execution_count": 21,
   "metadata": {},
   "outputs": [
    {
     "data": {
      "text/plain": [
       "(211982, 9)"
      ]
     },
     "execution_count": 21,
     "metadata": {},
     "output_type": "execute_result"
    }
   ],
   "source": [
    "df1.shape"
   ]
  },
  {
   "cell_type": "code",
   "execution_count": 22,
   "metadata": {},
   "outputs": [
    {
     "data": {
      "text/plain": [
       "(178613, 9)"
      ]
     },
     "execution_count": 22,
     "metadata": {},
     "output_type": "execute_result"
    }
   ],
   "source": [
    "df2.shape"
   ]
  },
  {
   "cell_type": "code",
   "execution_count": 23,
   "metadata": {},
   "outputs": [
    {
     "data": {
      "text/html": [
       "<div>\n",
       "<style scoped>\n",
       "    .dataframe tbody tr th:only-of-type {\n",
       "        vertical-align: middle;\n",
       "    }\n",
       "\n",
       "    .dataframe tbody tr th {\n",
       "        vertical-align: top;\n",
       "    }\n",
       "\n",
       "    .dataframe thead th {\n",
       "        text-align: right;\n",
       "    }\n",
       "</style>\n",
       "<table border=\"1\" class=\"dataframe\">\n",
       "  <thead>\n",
       "    <tr style=\"text-align: right;\">\n",
       "      <th></th>\n",
       "      <th>index</th>\n",
       "      <th>expiration_date</th>\n",
       "      <th>gis_latitude</th>\n",
       "      <th>gis_longitude</th>\n",
       "      <th>job_start_date</th>\n",
       "      <th>job_type</th>\n",
       "      <th>zip_code</th>\n",
       "      <th>job_days</th>\n",
       "      <th>impact_start_date</th>\n",
       "    </tr>\n",
       "  </thead>\n",
       "  <tbody>\n",
       "    <tr>\n",
       "      <th>1</th>\n",
       "      <td>8</td>\n",
       "      <td>2015-03-11</td>\n",
       "      <td>40.707312</td>\n",
       "      <td>-73.802539</td>\n",
       "      <td>2014-08-04</td>\n",
       "      <td>A2</td>\n",
       "      <td>11432</td>\n",
       "      <td>219</td>\n",
       "      <td>2015-01-01</td>\n",
       "    </tr>\n",
       "    <tr>\n",
       "      <th>2</th>\n",
       "      <td>13</td>\n",
       "      <td>2016-02-17</td>\n",
       "      <td>40.710306</td>\n",
       "      <td>-74.006828</td>\n",
       "      <td>2012-02-07</td>\n",
       "      <td>A2</td>\n",
       "      <td>10038</td>\n",
       "      <td>1471</td>\n",
       "      <td>2015-01-01</td>\n",
       "    </tr>\n",
       "    <tr>\n",
       "      <th>4</th>\n",
       "      <td>24</td>\n",
       "      <td>2015-03-31</td>\n",
       "      <td>40.746147</td>\n",
       "      <td>-73.994168</td>\n",
       "      <td>2014-04-29</td>\n",
       "      <td>A2</td>\n",
       "      <td>10001</td>\n",
       "      <td>336</td>\n",
       "      <td>2015-01-01</td>\n",
       "    </tr>\n",
       "    <tr>\n",
       "      <th>7</th>\n",
       "      <td>44</td>\n",
       "      <td>2015-09-24</td>\n",
       "      <td>40.717267</td>\n",
       "      <td>-74.004863</td>\n",
       "      <td>2014-09-24</td>\n",
       "      <td>A1</td>\n",
       "      <td>10013</td>\n",
       "      <td>365</td>\n",
       "      <td>2015-01-01</td>\n",
       "    </tr>\n",
       "    <tr>\n",
       "      <th>8</th>\n",
       "      <td>67</td>\n",
       "      <td>2015-09-02</td>\n",
       "      <td>40.869904</td>\n",
       "      <td>-73.848948</td>\n",
       "      <td>2013-12-23</td>\n",
       "      <td>NB</td>\n",
       "      <td>10469</td>\n",
       "      <td>618</td>\n",
       "      <td>2015-01-01</td>\n",
       "    </tr>\n",
       "  </tbody>\n",
       "</table>\n",
       "</div>"
      ],
      "text/plain": [
       "   index expiration_date gis_latitude gis_longitude job_start_date job_type  \\\n",
       "1      8      2015-03-11    40.707312    -73.802539     2014-08-04       A2   \n",
       "2     13      2016-02-17    40.710306    -74.006828     2012-02-07       A2   \n",
       "4     24      2015-03-31    40.746147    -73.994168     2014-04-29       A2   \n",
       "7     44      2015-09-24    40.717267    -74.004863     2014-09-24       A1   \n",
       "8     67      2015-09-02    40.869904    -73.848948     2013-12-23       NB   \n",
       "\n",
       "  zip_code  job_days impact_start_date  \n",
       "1    11432       219        2015-01-01  \n",
       "2    10038      1471        2015-01-01  \n",
       "4    10001       336        2015-01-01  \n",
       "7    10013       365        2015-01-01  \n",
       "8    10469       618        2015-01-01  "
      ]
     },
     "execution_count": 23,
     "metadata": {},
     "output_type": "execute_result"
    }
   ],
   "source": [
    "df = pd.concat([df1, df2])\n",
    "df.head()"
   ]
  },
  {
   "cell_type": "code",
   "execution_count": 24,
   "metadata": {},
   "outputs": [
    {
     "name": "stderr",
     "output_type": "stream",
     "text": [
      "/Library/Frameworks/Python.framework/Versions/3.6/lib/python3.6/site-packages/ipykernel_launcher.py:2: SettingWithCopyWarning: \n",
      "A value is trying to be set on a copy of a slice from a DataFrame.\n",
      "Try using .loc[row_indexer,col_indexer] = value instead\n",
      "\n",
      "See the caveats in the documentation: http://pandas.pydata.org/pandas-docs/stable/indexing.html#indexing-view-versus-copy\n",
      "  \n",
      "/Library/Frameworks/Python.framework/Versions/3.6/lib/python3.6/site-packages/ipykernel_launcher.py:4: SettingWithCopyWarning: \n",
      "A value is trying to be set on a copy of a slice from a DataFrame.\n",
      "Try using .loc[row_indexer,col_indexer] = value instead\n",
      "\n",
      "See the caveats in the documentation: http://pandas.pydata.org/pandas-docs/stable/indexing.html#indexing-view-versus-copy\n",
      "  after removing the cwd from sys.path.\n"
     ]
    }
   ],
   "source": [
    "df1 = df[df['expiration_date'] > '2015-12-31']\n",
    "df1['impact_end_date'] = pd.Timestamp('2015-12-31')\n",
    "df2 = df[df['expiration_date'] <= '2015-12-31']\n",
    "df2['impact_end_date'] = df2['expiration_date']"
   ]
  },
  {
   "cell_type": "code",
   "execution_count": 25,
   "metadata": {},
   "outputs": [
    {
     "data": {
      "text/html": [
       "<div>\n",
       "<style scoped>\n",
       "    .dataframe tbody tr th:only-of-type {\n",
       "        vertical-align: middle;\n",
       "    }\n",
       "\n",
       "    .dataframe tbody tr th {\n",
       "        vertical-align: top;\n",
       "    }\n",
       "\n",
       "    .dataframe thead th {\n",
       "        text-align: right;\n",
       "    }\n",
       "</style>\n",
       "<table border=\"1\" class=\"dataframe\">\n",
       "  <thead>\n",
       "    <tr style=\"text-align: right;\">\n",
       "      <th></th>\n",
       "      <th>index</th>\n",
       "      <th>expiration_date</th>\n",
       "      <th>gis_latitude</th>\n",
       "      <th>gis_longitude</th>\n",
       "      <th>job_start_date</th>\n",
       "      <th>job_type</th>\n",
       "      <th>zip_code</th>\n",
       "      <th>job_days</th>\n",
       "      <th>impact_start_date</th>\n",
       "      <th>impact_end_date</th>\n",
       "    </tr>\n",
       "  </thead>\n",
       "  <tbody>\n",
       "    <tr>\n",
       "      <th>2</th>\n",
       "      <td>13</td>\n",
       "      <td>2016-02-17</td>\n",
       "      <td>40.710306</td>\n",
       "      <td>-74.006828</td>\n",
       "      <td>2012-02-07</td>\n",
       "      <td>A2</td>\n",
       "      <td>10038</td>\n",
       "      <td>1471</td>\n",
       "      <td>2015-01-01</td>\n",
       "      <td>2015-12-31</td>\n",
       "    </tr>\n",
       "    <tr>\n",
       "      <th>13</th>\n",
       "      <td>88</td>\n",
       "      <td>2017-01-19</td>\n",
       "      <td>40.683557</td>\n",
       "      <td>-73.980314</td>\n",
       "      <td>2007-09-20</td>\n",
       "      <td>NB</td>\n",
       "      <td>11217</td>\n",
       "      <td>3409</td>\n",
       "      <td>2015-01-01</td>\n",
       "      <td>2015-12-31</td>\n",
       "    </tr>\n",
       "    <tr>\n",
       "      <th>21</th>\n",
       "      <td>156</td>\n",
       "      <td>2017-06-16</td>\n",
       "      <td>40.595665</td>\n",
       "      <td>-73.740348</td>\n",
       "      <td>2005-09-14</td>\n",
       "      <td>NB</td>\n",
       "      <td>11691</td>\n",
       "      <td>4293</td>\n",
       "      <td>2015-01-01</td>\n",
       "      <td>2015-12-31</td>\n",
       "    </tr>\n",
       "    <tr>\n",
       "      <th>22</th>\n",
       "      <td>157</td>\n",
       "      <td>2016-02-05</td>\n",
       "      <td>40.706967</td>\n",
       "      <td>-73.947070</td>\n",
       "      <td>2013-12-26</td>\n",
       "      <td>A2</td>\n",
       "      <td>11206</td>\n",
       "      <td>771</td>\n",
       "      <td>2015-01-01</td>\n",
       "      <td>2015-12-31</td>\n",
       "    </tr>\n",
       "    <tr>\n",
       "      <th>27</th>\n",
       "      <td>183</td>\n",
       "      <td>2016-07-19</td>\n",
       "      <td>40.735824</td>\n",
       "      <td>-73.746283</td>\n",
       "      <td>2012-08-16</td>\n",
       "      <td>A2</td>\n",
       "      <td>11364</td>\n",
       "      <td>1433</td>\n",
       "      <td>2015-01-01</td>\n",
       "      <td>2015-12-31</td>\n",
       "    </tr>\n",
       "  </tbody>\n",
       "</table>\n",
       "</div>"
      ],
      "text/plain": [
       "    index expiration_date gis_latitude gis_longitude job_start_date job_type  \\\n",
       "2      13      2016-02-17    40.710306    -74.006828     2012-02-07       A2   \n",
       "13     88      2017-01-19    40.683557    -73.980314     2007-09-20       NB   \n",
       "21    156      2017-06-16    40.595665    -73.740348     2005-09-14       NB   \n",
       "22    157      2016-02-05    40.706967    -73.947070     2013-12-26       A2   \n",
       "27    183      2016-07-19    40.735824    -73.746283     2012-08-16       A2   \n",
       "\n",
       "   zip_code  job_days impact_start_date impact_end_date  \n",
       "2     10038      1471        2015-01-01      2015-12-31  \n",
       "13    11217      3409        2015-01-01      2015-12-31  \n",
       "21    11691      4293        2015-01-01      2015-12-31  \n",
       "22    11206       771        2015-01-01      2015-12-31  \n",
       "27    11364      1433        2015-01-01      2015-12-31  "
      ]
     },
     "execution_count": 25,
     "metadata": {},
     "output_type": "execute_result"
    }
   ],
   "source": [
    "df = pd.concat([df1, df2])\n",
    "df.head()"
   ]
  },
  {
   "cell_type": "code",
   "execution_count": 26,
   "metadata": {},
   "outputs": [],
   "source": [
    "#calculate days of impact\n",
    "df['impact_days'] = df['impact_end_date'] - df['impact_start_date']\n",
    "df['impact_days'] = df['impact_days'].dt.days"
   ]
  },
  {
   "cell_type": "code",
   "execution_count": 27,
   "metadata": {},
   "outputs": [
    {
     "data": {
      "text/plain": [
       "count    390595.000000\n",
       "mean        199.195824\n",
       "std         118.569432\n",
       "min           0.000000\n",
       "25%          92.000000\n",
       "50%         192.000000\n",
       "75%         315.000000\n",
       "max         364.000000\n",
       "Name: impact_days, dtype: float64"
      ]
     },
     "execution_count": 27,
     "metadata": {},
     "output_type": "execute_result"
    }
   ],
   "source": [
    "df['impact_days'].describe()"
   ]
  },
  {
   "cell_type": "code",
   "execution_count": 28,
   "metadata": {},
   "outputs": [
    {
     "data": {
      "text/html": [
       "<div>\n",
       "<style scoped>\n",
       "    .dataframe tbody tr th:only-of-type {\n",
       "        vertical-align: middle;\n",
       "    }\n",
       "\n",
       "    .dataframe tbody tr th {\n",
       "        vertical-align: top;\n",
       "    }\n",
       "\n",
       "    .dataframe thead th {\n",
       "        text-align: right;\n",
       "    }\n",
       "</style>\n",
       "<table border=\"1\" class=\"dataframe\">\n",
       "  <thead>\n",
       "    <tr style=\"text-align: right;\">\n",
       "      <th></th>\n",
       "      <th>index</th>\n",
       "      <th>job_days</th>\n",
       "      <th>impact_days</th>\n",
       "    </tr>\n",
       "  </thead>\n",
       "  <tbody>\n",
       "    <tr>\n",
       "      <th>count</th>\n",
       "      <td>3.905950e+05</td>\n",
       "      <td>390595.000000</td>\n",
       "      <td>390595.000000</td>\n",
       "    </tr>\n",
       "    <tr>\n",
       "      <th>mean</th>\n",
       "      <td>1.642759e+06</td>\n",
       "      <td>684.290162</td>\n",
       "      <td>199.195824</td>\n",
       "    </tr>\n",
       "    <tr>\n",
       "      <th>std</th>\n",
       "      <td>9.463274e+05</td>\n",
       "      <td>926.140046</td>\n",
       "      <td>118.569432</td>\n",
       "    </tr>\n",
       "    <tr>\n",
       "      <th>min</th>\n",
       "      <td>4.000000e+00</td>\n",
       "      <td>1.000000</td>\n",
       "      <td>0.000000</td>\n",
       "    </tr>\n",
       "    <tr>\n",
       "      <th>25%</th>\n",
       "      <td>8.219805e+05</td>\n",
       "      <td>346.000000</td>\n",
       "      <td>92.000000</td>\n",
       "    </tr>\n",
       "    <tr>\n",
       "      <th>50%</th>\n",
       "      <td>1.643756e+06</td>\n",
       "      <td>365.000000</td>\n",
       "      <td>192.000000</td>\n",
       "    </tr>\n",
       "    <tr>\n",
       "      <th>75%</th>\n",
       "      <td>2.463324e+06</td>\n",
       "      <td>745.000000</td>\n",
       "      <td>315.000000</td>\n",
       "    </tr>\n",
       "    <tr>\n",
       "      <th>max</th>\n",
       "      <td>3.279403e+06</td>\n",
       "      <td>73551.000000</td>\n",
       "      <td>364.000000</td>\n",
       "    </tr>\n",
       "  </tbody>\n",
       "</table>\n",
       "</div>"
      ],
      "text/plain": [
       "              index       job_days    impact_days\n",
       "count  3.905950e+05  390595.000000  390595.000000\n",
       "mean   1.642759e+06     684.290162     199.195824\n",
       "std    9.463274e+05     926.140046     118.569432\n",
       "min    4.000000e+00       1.000000       0.000000\n",
       "25%    8.219805e+05     346.000000      92.000000\n",
       "50%    1.643756e+06     365.000000     192.000000\n",
       "75%    2.463324e+06     745.000000     315.000000\n",
       "max    3.279403e+06   73551.000000     364.000000"
      ]
     },
     "execution_count": 28,
     "metadata": {},
     "output_type": "execute_result"
    }
   ],
   "source": [
    "df.describe()"
   ]
  },
  {
   "cell_type": "code",
   "execution_count": 29,
   "metadata": {},
   "outputs": [
    {
     "data": {
      "text/plain": [
       "(390595, 11)"
      ]
     },
     "execution_count": 29,
     "metadata": {},
     "output_type": "execute_result"
    }
   ],
   "source": [
    "df.shape"
   ]
  },
  {
   "cell_type": "code",
   "execution_count": 30,
   "metadata": {},
   "outputs": [
    {
     "data": {
      "text/html": [
       "<div>\n",
       "<style scoped>\n",
       "    .dataframe tbody tr th:only-of-type {\n",
       "        vertical-align: middle;\n",
       "    }\n",
       "\n",
       "    .dataframe tbody tr th {\n",
       "        vertical-align: top;\n",
       "    }\n",
       "\n",
       "    .dataframe thead th {\n",
       "        text-align: right;\n",
       "    }\n",
       "</style>\n",
       "<table border=\"1\" class=\"dataframe\">\n",
       "  <thead>\n",
       "    <tr style=\"text-align: right;\">\n",
       "      <th></th>\n",
       "      <th>index</th>\n",
       "      <th>expiration_date</th>\n",
       "      <th>gis_latitude</th>\n",
       "      <th>gis_longitude</th>\n",
       "      <th>job_start_date</th>\n",
       "      <th>job_type</th>\n",
       "      <th>zip_code</th>\n",
       "      <th>job_days</th>\n",
       "      <th>impact_start_date</th>\n",
       "      <th>impact_end_date</th>\n",
       "      <th>impact_days</th>\n",
       "    </tr>\n",
       "  </thead>\n",
       "  <tbody>\n",
       "    <tr>\n",
       "      <th>2</th>\n",
       "      <td>13</td>\n",
       "      <td>2016-02-17</td>\n",
       "      <td>40.710306</td>\n",
       "      <td>-74.006828</td>\n",
       "      <td>2012-02-07</td>\n",
       "      <td>A2</td>\n",
       "      <td>10038</td>\n",
       "      <td>1471</td>\n",
       "      <td>2015-01-01</td>\n",
       "      <td>2015-12-31</td>\n",
       "      <td>364</td>\n",
       "    </tr>\n",
       "    <tr>\n",
       "      <th>13</th>\n",
       "      <td>88</td>\n",
       "      <td>2017-01-19</td>\n",
       "      <td>40.683557</td>\n",
       "      <td>-73.980314</td>\n",
       "      <td>2007-09-20</td>\n",
       "      <td>NB</td>\n",
       "      <td>11217</td>\n",
       "      <td>3409</td>\n",
       "      <td>2015-01-01</td>\n",
       "      <td>2015-12-31</td>\n",
       "      <td>364</td>\n",
       "    </tr>\n",
       "    <tr>\n",
       "      <th>21</th>\n",
       "      <td>156</td>\n",
       "      <td>2017-06-16</td>\n",
       "      <td>40.595665</td>\n",
       "      <td>-73.740348</td>\n",
       "      <td>2005-09-14</td>\n",
       "      <td>NB</td>\n",
       "      <td>11691</td>\n",
       "      <td>4293</td>\n",
       "      <td>2015-01-01</td>\n",
       "      <td>2015-12-31</td>\n",
       "      <td>364</td>\n",
       "    </tr>\n",
       "    <tr>\n",
       "      <th>22</th>\n",
       "      <td>157</td>\n",
       "      <td>2016-02-05</td>\n",
       "      <td>40.706967</td>\n",
       "      <td>-73.947070</td>\n",
       "      <td>2013-12-26</td>\n",
       "      <td>A2</td>\n",
       "      <td>11206</td>\n",
       "      <td>771</td>\n",
       "      <td>2015-01-01</td>\n",
       "      <td>2015-12-31</td>\n",
       "      <td>364</td>\n",
       "    </tr>\n",
       "    <tr>\n",
       "      <th>27</th>\n",
       "      <td>183</td>\n",
       "      <td>2016-07-19</td>\n",
       "      <td>40.735824</td>\n",
       "      <td>-73.746283</td>\n",
       "      <td>2012-08-16</td>\n",
       "      <td>A2</td>\n",
       "      <td>11364</td>\n",
       "      <td>1433</td>\n",
       "      <td>2015-01-01</td>\n",
       "      <td>2015-12-31</td>\n",
       "      <td>364</td>\n",
       "    </tr>\n",
       "  </tbody>\n",
       "</table>\n",
       "</div>"
      ],
      "text/plain": [
       "    index expiration_date gis_latitude gis_longitude job_start_date job_type  \\\n",
       "2      13      2016-02-17    40.710306    -74.006828     2012-02-07       A2   \n",
       "13     88      2017-01-19    40.683557    -73.980314     2007-09-20       NB   \n",
       "21    156      2017-06-16    40.595665    -73.740348     2005-09-14       NB   \n",
       "22    157      2016-02-05    40.706967    -73.947070     2013-12-26       A2   \n",
       "27    183      2016-07-19    40.735824    -73.746283     2012-08-16       A2   \n",
       "\n",
       "   zip_code  job_days impact_start_date impact_end_date  impact_days  \n",
       "2     10038      1471        2015-01-01      2015-12-31          364  \n",
       "13    11217      3409        2015-01-01      2015-12-31          364  \n",
       "21    11691      4293        2015-01-01      2015-12-31          364  \n",
       "22    11206       771        2015-01-01      2015-12-31          364  \n",
       "27    11364      1433        2015-01-01      2015-12-31          364  "
      ]
     },
     "execution_count": 30,
     "metadata": {},
     "output_type": "execute_result"
    }
   ],
   "source": [
    "df.head()"
   ]
  },
  {
   "cell_type": "code",
   "execution_count": 31,
   "metadata": {},
   "outputs": [
    {
     "data": {
      "image/png": "[encoded data removed]",
      "text/plain": [
       "<matplotlib.figure.Figure at 0x1041631d0>"
      ]
     },
     "metadata": {},
     "output_type": "display_data"
    },
    {
     "name": "stdout",
     "output_type": "stream",
     "text": [
      "Days of construction activities happening in 2015. Most cases (more than 70,000) covered the whole span of 2015.\n"
     ]
    }
   ],
   "source": [
    "fig = plt.figure(figsize=(12,8))\n",
    "plt.hist(df['impact_days'], bins=200)\n",
    "plt.title('Construction activities in 2015', fontsize = 20)\n",
    "plt.xlabel('Days in construction', fontsize = 18)\n",
    "plt.ylabel('Cases', fontsize = 18)\n",
    "plt.savefig('construction_activities_2015', dpi=300, transparent=True)\n",
    "plt.show()\n",
    "print ('Days of construction activities happening in 2015. ' +\n",
    "       'Most cases (more than 70,000) covered the whole span of 2015.')"
   ]
  },
  {
   "cell_type": "code",
   "execution_count": 32,
   "metadata": {},
   "outputs": [
    {
     "data": {
      "text/html": [
       "<div>\n",
       "<style scoped>\n",
       "    .dataframe tbody tr th:only-of-type {\n",
       "        vertical-align: middle;\n",
       "    }\n",
       "\n",
       "    .dataframe tbody tr th {\n",
       "        vertical-align: top;\n",
       "    }\n",
       "\n",
       "    .dataframe thead th {\n",
       "        text-align: right;\n",
       "    }\n",
       "</style>\n",
       "<table border=\"1\" class=\"dataframe\">\n",
       "  <thead>\n",
       "    <tr style=\"text-align: right;\">\n",
       "      <th></th>\n",
       "      <th>zip_code</th>\n",
       "      <th>total_impact_days</th>\n",
       "    </tr>\n",
       "  </thead>\n",
       "  <tbody>\n",
       "    <tr>\n",
       "      <th>0</th>\n",
       "      <td>00000</td>\n",
       "      <td>41</td>\n",
       "    </tr>\n",
       "    <tr>\n",
       "      <th>1</th>\n",
       "      <td>10000</td>\n",
       "      <td>878</td>\n",
       "    </tr>\n",
       "    <tr>\n",
       "      <th>2</th>\n",
       "      <td>10001</td>\n",
       "      <td>1526615</td>\n",
       "    </tr>\n",
       "    <tr>\n",
       "      <th>3</th>\n",
       "      <td>10002</td>\n",
       "      <td>831002</td>\n",
       "    </tr>\n",
       "    <tr>\n",
       "      <th>4</th>\n",
       "      <td>10003</td>\n",
       "      <td>1338875</td>\n",
       "    </tr>\n",
       "  </tbody>\n",
       "</table>\n",
       "</div>"
      ],
      "text/plain": [
       "  zip_code  total_impact_days\n",
       "0    00000                 41\n",
       "1    10000                878\n",
       "2    10001            1526615\n",
       "3    10002             831002\n",
       "4    10003            1338875"
      ]
     },
     "execution_count": 32,
     "metadata": {},
     "output_type": "execute_result"
    }
   ],
   "source": [
    "#cases by zip code\n",
    "dfzip = df.groupby('zip_code').sum()\n",
    "dfzip.reset_index(inplace=True)\n",
    "dfzip = dfzip[['zip_code', 'impact_days']]\n",
    "dfzip.rename(columns={'impact_days': 'total_impact_days'}, inplace=True)\n",
    "dfzip.head()"
   ]
  },
  {
   "cell_type": "code",
   "execution_count": 33,
   "metadata": {},
   "outputs": [],
   "source": [
    "dfzip.to_csv('DOB_impact_2015_byzipcode.csv')"
   ]
  },
  {
   "cell_type": "markdown",
   "metadata": {},
   "source": [
    "#### map"
   ]
  },
  {
   "cell_type": "code",
   "execution_count": 34,
   "metadata": {},
   "outputs": [],
   "source": [
    "os.system(\"curl -O http://catalog.civicdashboards.com/dataset/11fd957a-8885-42ef-aa49-5c879ec93fac/resource/28377e88-8a50-428f-807c-40ba1f09159b/download/nyc-zip-code-tabulation-areas-polygons.geojson\")\n",
    "os.system(\"mv \" + \"nyc-zip-code-tabulation-areas-polygons.geojson \" + os.getenv(\"PUIDATA\"))\n",
    "nyc = gpd.read_file(os.getenv(\"PUIDATA\") + \"/\" + 'nyc-zip-code-tabulation-areas-polygons.geojson')"
   ]
  },
  {
   "cell_type": "code",
   "execution_count": 35,
   "metadata": {},
   "outputs": [],
   "source": [
    "nyc['zip_code'] = nyc.postalCode.astype(str)\n",
    "nyc.drop(['OBJECTID', 'postalCode', 'PO_NAME', 'STATE', 'borough', 'ST_FIPS',\n",
    "          'CTY_FIPS', 'BLDGpostal', '@id', 'longitude', 'latitude'], axis=1, inplace=True)"
   ]
  },
  {
   "cell_type": "code",
   "execution_count": 36,
   "metadata": {},
   "outputs": [
    {
     "data": {
      "text/html": [
       "<div>\n",
       "<style scoped>\n",
       "    .dataframe tbody tr th:only-of-type {\n",
       "        vertical-align: middle;\n",
       "    }\n",
       "\n",
       "    .dataframe tbody tr th {\n",
       "        vertical-align: top;\n",
       "    }\n",
       "\n",
       "    .dataframe thead th {\n",
       "        text-align: right;\n",
       "    }\n",
       "</style>\n",
       "<table border=\"1\" class=\"dataframe\">\n",
       "  <thead>\n",
       "    <tr style=\"text-align: right;\">\n",
       "      <th></th>\n",
       "      <th>geometry</th>\n",
       "      <th>zip_code</th>\n",
       "      <th>total_impact_days</th>\n",
       "    </tr>\n",
       "  </thead>\n",
       "  <tbody>\n",
       "    <tr>\n",
       "      <th>0</th>\n",
       "      <td>POLYGON ((-73.86942457284177 40.74915687096788...</td>\n",
       "      <td>11372</td>\n",
       "      <td>309416</td>\n",
       "    </tr>\n",
       "    <tr>\n",
       "      <th>1</th>\n",
       "      <td>POLYGON ((-73.71132911125308 40.74947450816085...</td>\n",
       "      <td>11004</td>\n",
       "      <td>124843</td>\n",
       "    </tr>\n",
       "    <tr>\n",
       "      <th>2</th>\n",
       "      <td>POLYGON ((-73.70098278625547 40.73889569923034...</td>\n",
       "      <td>11040</td>\n",
       "      <td>30885</td>\n",
       "    </tr>\n",
       "    <tr>\n",
       "      <th>3</th>\n",
       "      <td>POLYGON ((-73.72270447144122 40.75373371438336...</td>\n",
       "      <td>11426</td>\n",
       "      <td>98286</td>\n",
       "    </tr>\n",
       "    <tr>\n",
       "      <th>4</th>\n",
       "      <td>POLYGON ((-73.81088634744756 40.7271718757592,...</td>\n",
       "      <td>11365</td>\n",
       "      <td>314106</td>\n",
       "    </tr>\n",
       "  </tbody>\n",
       "</table>\n",
       "</div>"
      ],
      "text/plain": [
       "                                            geometry zip_code  \\\n",
       "0  POLYGON ((-73.86942457284177 40.74915687096788...    11372   \n",
       "1  POLYGON ((-73.71132911125308 40.74947450816085...    11004   \n",
       "2  POLYGON ((-73.70098278625547 40.73889569923034...    11040   \n",
       "3  POLYGON ((-73.72270447144122 40.75373371438336...    11426   \n",
       "4  POLYGON ((-73.81088634744756 40.7271718757592,...    11365   \n",
       "\n",
       "   total_impact_days  \n",
       "0             309416  \n",
       "1             124843  \n",
       "2              30885  \n",
       "3              98286  \n",
       "4             314106  "
      ]
     },
     "execution_count": 36,
     "metadata": {},
     "output_type": "execute_result"
    }
   ],
   "source": [
    "mapData = pd.merge(nyc, dfzip, on='zip_code').drop_duplicates('zip_code')\n",
    "mapData.head()"
   ]
  },
  {
   "cell_type": "code",
   "execution_count": 37,
   "metadata": {},
   "outputs": [],
   "source": [
    "mapData.crs = from_epsg(4326) #from lat/long\n",
    "mapData['geometry'] = nyc.to_crs(epsg=2263).geometry\n",
    "mapData = gpd.GeoDataFrame(mapData)"
   ]
  },
  {
   "cell_type": "code",
   "execution_count": 40,
   "metadata": {},
   "outputs": [
    {
     "data": {
      "text/html": [
       "<div>\n",
       "<style scoped>\n",
       "    .dataframe tbody tr th:only-of-type {\n",
       "        vertical-align: middle;\n",
       "    }\n",
       "\n",
       "    .dataframe tbody tr th {\n",
       "        vertical-align: top;\n",
       "    }\n",
       "\n",
       "    .dataframe thead th {\n",
       "        text-align: right;\n",
       "    }\n",
       "</style>\n",
       "<table border=\"1\" class=\"dataframe\">\n",
       "  <thead>\n",
       "    <tr style=\"text-align: right;\">\n",
       "      <th></th>\n",
       "      <th>geometry</th>\n",
       "      <th>zip_code</th>\n",
       "      <th>total_impact_days</th>\n",
       "    </tr>\n",
       "  </thead>\n",
       "  <tbody>\n",
       "    <tr>\n",
       "      <th>125</th>\n",
       "      <td>POLYGON ((991606.4029262179 205494.2678669897,...</td>\n",
       "      <td>10013</td>\n",
       "      <td>1693239</td>\n",
       "    </tr>\n",
       "    <tr>\n",
       "      <th>112</th>\n",
       "      <td>POLYGON ((990440.5066359771 215405.07252041, 9...</td>\n",
       "      <td>10011</td>\n",
       "      <td>1654263</td>\n",
       "    </tr>\n",
       "    <tr>\n",
       "      <th>224</th>\n",
       "      <td>POLYGON ((989789.9823464747 214129.9389158244,...</td>\n",
       "      <td>10022</td>\n",
       "      <td>1622561</td>\n",
       "    </tr>\n",
       "    <tr>\n",
       "      <th>196</th>\n",
       "      <td>POLYGON ((990017.0947531497 213302.0045480751,...</td>\n",
       "      <td>10019</td>\n",
       "      <td>1596954</td>\n",
       "    </tr>\n",
       "    <tr>\n",
       "      <th>111</th>\n",
       "      <td>POLYGON ((1063551.44079439 216279.8217551664, ...</td>\n",
       "      <td>10001</td>\n",
       "      <td>1526615</td>\n",
       "    </tr>\n",
       "    <tr>\n",
       "      <th>140</th>\n",
       "      <td>POLYGON ((984793.7954884756 193856.001117324, ...</td>\n",
       "      <td>11201</td>\n",
       "      <td>1502890</td>\n",
       "    </tr>\n",
       "    <tr>\n",
       "      <th>113</th>\n",
       "      <td>POLYGON ((981958.6472873999 213464.5747609858,...</td>\n",
       "      <td>10016</td>\n",
       "      <td>1410318</td>\n",
       "    </tr>\n",
       "    <tr>\n",
       "      <th>119</th>\n",
       "      <td>POLYGON ((1029249.073703725 210099.9768314018,...</td>\n",
       "      <td>10003</td>\n",
       "      <td>1338875</td>\n",
       "    </tr>\n",
       "    <tr>\n",
       "      <th>86</th>\n",
       "      <td>POLYGON ((1012852.721653984 224540.6241311638,...</td>\n",
       "      <td>10023</td>\n",
       "      <td>1271131</td>\n",
       "    </tr>\n",
       "    <tr>\n",
       "      <th>103</th>\n",
       "      <td>POLYGON ((1022299.623363807 218704.0295051604,...</td>\n",
       "      <td>10036</td>\n",
       "      <td>1232341</td>\n",
       "    </tr>\n",
       "    <tr>\n",
       "      <th>225</th>\n",
       "      <td>POLYGON ((991566.3731506511 217337.2261364004,...</td>\n",
       "      <td>10065</td>\n",
       "      <td>1150449</td>\n",
       "    </tr>\n",
       "    <tr>\n",
       "      <th>105</th>\n",
       "      <td>POLYGON ((989419.2127468145 215672.2091252331,...</td>\n",
       "      <td>11101</td>\n",
       "      <td>1102441</td>\n",
       "    </tr>\n",
       "    <tr>\n",
       "      <th>78</th>\n",
       "      <td>POLYGON ((995501.6553063028 232971.2365349849,...</td>\n",
       "      <td>10025</td>\n",
       "      <td>1093561</td>\n",
       "    </tr>\n",
       "    <tr>\n",
       "      <th>124</th>\n",
       "      <td>POLYGON ((1005254.303451893 207255.2705785807,...</td>\n",
       "      <td>10012</td>\n",
       "      <td>1062410</td>\n",
       "    </tr>\n",
       "    <tr>\n",
       "      <th>73</th>\n",
       "      <td>POLYGON ((1002566.673984649 237849.9124731522,...</td>\n",
       "      <td>10024</td>\n",
       "      <td>1040448</td>\n",
       "    </tr>\n",
       "    <tr>\n",
       "      <th>118</th>\n",
       "      <td>POLYGON ((987645.3212814762 210360.0150252548,...</td>\n",
       "      <td>10014</td>\n",
       "      <td>1038585</td>\n",
       "    </tr>\n",
       "    <tr>\n",
       "      <th>110</th>\n",
       "      <td>POLYGON ((990566.3800718888 215633.3640585763,...</td>\n",
       "      <td>10017</td>\n",
       "      <td>1036213</td>\n",
       "    </tr>\n",
       "    <tr>\n",
       "      <th>20</th>\n",
       "      <td>POLYGON ((1039268.607142316 194809.9887106585,...</td>\n",
       "      <td>11221</td>\n",
       "      <td>998803</td>\n",
       "    </tr>\n",
       "    <tr>\n",
       "      <th>93</th>\n",
       "      <td>POLYGON ((1004112.849041894 222330.6137874155,...</td>\n",
       "      <td>10021</td>\n",
       "      <td>967220</td>\n",
       "    </tr>\n",
       "    <tr>\n",
       "      <th>152</th>\n",
       "      <td>POLYGON ((1037510.87279689 189654.0636550873, ...</td>\n",
       "      <td>11215</td>\n",
       "      <td>964082</td>\n",
       "    </tr>\n",
       "    <tr>\n",
       "      <th>116</th>\n",
       "      <td>POLYGON ((1009231.627190144 213125.0744557395,...</td>\n",
       "      <td>10010</td>\n",
       "      <td>958036</td>\n",
       "    </tr>\n",
       "    <tr>\n",
       "      <th>126</th>\n",
       "      <td>POLYGON ((985200.0558308054 205072.1414146567,...</td>\n",
       "      <td>11211</td>\n",
       "      <td>892848</td>\n",
       "    </tr>\n",
       "    <tr>\n",
       "      <th>146</th>\n",
       "      <td>POLYGON ((971218.3702115574 190710.9801764148,...</td>\n",
       "      <td>11238</td>\n",
       "      <td>885597</td>\n",
       "    </tr>\n",
       "    <tr>\n",
       "      <th>131</th>\n",
       "      <td>POLYGON ((1005293.447402472 199401.6520995006,...</td>\n",
       "      <td>11206</td>\n",
       "      <td>869828</td>\n",
       "    </tr>\n",
       "    <tr>\n",
       "      <th>121</th>\n",
       "      <td>POLYGON ((989830.469142139 207048.2476986598, ...</td>\n",
       "      <td>10002</td>\n",
       "      <td>831002</td>\n",
       "    </tr>\n",
       "    <tr>\n",
       "      <th>85</th>\n",
       "      <td>POLYGON ((1043330.529792728 227284.3601134837,...</td>\n",
       "      <td>10128</td>\n",
       "      <td>830233</td>\n",
       "    </tr>\n",
       "    <tr>\n",
       "      <th>69</th>\n",
       "      <td>POLYGON ((1001899.622497229 238190.5321987485,...</td>\n",
       "      <td>10027</td>\n",
       "      <td>800744</td>\n",
       "    </tr>\n",
       "    <tr>\n",
       "      <th>145</th>\n",
       "      <td>POLYGON ((977542.4500830675 188447.4000579148,...</td>\n",
       "      <td>11217</td>\n",
       "      <td>779609</td>\n",
       "    </tr>\n",
       "    <tr>\n",
       "      <th>107</th>\n",
       "      <td>POLYGON ((1005731.928480893 215237.4327638347,...</td>\n",
       "      <td>10018</td>\n",
       "      <td>750069</td>\n",
       "    </tr>\n",
       "    <tr>\n",
       "      <th>88</th>\n",
       "      <td>POLYGON ((1016073.073480983 222913.2697743229,...</td>\n",
       "      <td>10028</td>\n",
       "      <td>736057</td>\n",
       "    </tr>\n",
       "    <tr>\n",
       "      <th>...</th>\n",
       "      <td>...</td>\n",
       "      <td>...</td>\n",
       "      <td>...</td>\n",
       "    </tr>\n",
       "    <tr>\n",
       "      <th>203</th>\n",
       "      <td>POLYGON ((985956.6350263079 220918.4371498214,...</td>\n",
       "      <td>10169</td>\n",
       "      <td>21576</td>\n",
       "    </tr>\n",
       "    <tr>\n",
       "      <th>218</th>\n",
       "      <td>POLYGON ((991907.6880848147 215231.6332347418,...</td>\n",
       "      <td>10106</td>\n",
       "      <td>21156</td>\n",
       "    </tr>\n",
       "    <tr>\n",
       "      <th>200</th>\n",
       "      <td>POLYGON ((987926.2580555688 212001.5622670798,...</td>\n",
       "      <td>10107</td>\n",
       "      <td>19532</td>\n",
       "    </tr>\n",
       "    <tr>\n",
       "      <th>208</th>\n",
       "      <td>POLYGON ((988962.5394475643 218460.127105815, ...</td>\n",
       "      <td>10271</td>\n",
       "      <td>19476</td>\n",
       "    </tr>\n",
       "    <tr>\n",
       "      <th>223</th>\n",
       "      <td>POLYGON ((989343.296888142 213959.89332415, 98...</td>\n",
       "      <td>10155</td>\n",
       "      <td>19041</td>\n",
       "    </tr>\n",
       "    <tr>\n",
       "      <th>115</th>\n",
       "      <td>POLYGON ((989286.3435899728 213322.9014879055,...</td>\n",
       "      <td>11109</td>\n",
       "      <td>19015</td>\n",
       "    </tr>\n",
       "    <tr>\n",
       "      <th>191</th>\n",
       "      <td>POLYGON ((925030.2516299799 142864.5617618235,...</td>\n",
       "      <td>10055</td>\n",
       "      <td>18957</td>\n",
       "    </tr>\n",
       "    <tr>\n",
       "      <th>204</th>\n",
       "      <td>POLYGON ((990220.1635727314 215825.307572327, ...</td>\n",
       "      <td>10167</td>\n",
       "      <td>18697</td>\n",
       "    </tr>\n",
       "    <tr>\n",
       "      <th>199</th>\n",
       "      <td>POLYGON ((989999.9983306424 217195.8973508195,...</td>\n",
       "      <td>10122</td>\n",
       "      <td>17777</td>\n",
       "    </tr>\n",
       "    <tr>\n",
       "      <th>190</th>\n",
       "      <td>POLYGON ((928850.452979056 143511.5247067385, ...</td>\n",
       "      <td>10168</td>\n",
       "      <td>16025</td>\n",
       "    </tr>\n",
       "    <tr>\n",
       "      <th>209</th>\n",
       "      <td>POLYGON ((990555.1740575634 216367.0571449874,...</td>\n",
       "      <td>10110</td>\n",
       "      <td>15434</td>\n",
       "    </tr>\n",
       "    <tr>\n",
       "      <th>219</th>\n",
       "      <td>POLYGON ((992153.6062281459 215616.3864022448,...</td>\n",
       "      <td>10158</td>\n",
       "      <td>14166</td>\n",
       "    </tr>\n",
       "    <tr>\n",
       "      <th>202</th>\n",
       "      <td>POLYGON ((997731.7610823072 219561.043867246, ...</td>\n",
       "      <td>10174</td>\n",
       "      <td>12724</td>\n",
       "    </tr>\n",
       "    <tr>\n",
       "      <th>210</th>\n",
       "      <td>POLYGON ((991763.3970348104 217664.1611780709,...</td>\n",
       "      <td>10175</td>\n",
       "      <td>12661</td>\n",
       "    </tr>\n",
       "    <tr>\n",
       "      <th>215</th>\n",
       "      <td>POLYGON ((990802.5098489865 214345.0864514129,...</td>\n",
       "      <td>10121</td>\n",
       "      <td>9760</td>\n",
       "    </tr>\n",
       "    <tr>\n",
       "      <th>155</th>\n",
       "      <td>POLYGON ((1030470.016471818 182247.8652129022,...</td>\n",
       "      <td>11430</td>\n",
       "      <td>9278</td>\n",
       "    </tr>\n",
       "    <tr>\n",
       "      <th>211</th>\n",
       "      <td>POLYGON ((990971.7611508979 213125.6889558294,...</td>\n",
       "      <td>10151</td>\n",
       "      <td>9107</td>\n",
       "    </tr>\n",
       "    <tr>\n",
       "      <th>216</th>\n",
       "      <td>POLYGON ((991485.369375649 214481.9857839076, ...</td>\n",
       "      <td>10115</td>\n",
       "      <td>8781</td>\n",
       "    </tr>\n",
       "    <tr>\n",
       "      <th>206</th>\n",
       "      <td>POLYGON ((991802.2414453197 215098.6000362347,...</td>\n",
       "      <td>10172</td>\n",
       "      <td>8631</td>\n",
       "    </tr>\n",
       "    <tr>\n",
       "      <th>205</th>\n",
       "      <td>POLYGON ((990812.4307608956 213435.2585466548,...</td>\n",
       "      <td>10177</td>\n",
       "      <td>8310</td>\n",
       "    </tr>\n",
       "    <tr>\n",
       "      <th>213</th>\n",
       "      <td>POLYGON ((990707.7528206414 214185.7098016637,...</td>\n",
       "      <td>10178</td>\n",
       "      <td>7730</td>\n",
       "    </tr>\n",
       "    <tr>\n",
       "      <th>212</th>\n",
       "      <td>POLYGON ((990521.529439804 213759.0603924991, ...</td>\n",
       "      <td>10173</td>\n",
       "      <td>6862</td>\n",
       "    </tr>\n",
       "    <tr>\n",
       "      <th>194</th>\n",
       "      <td>POLYGON ((980255.079828394 198311.1155666655, ...</td>\n",
       "      <td>10176</td>\n",
       "      <td>5831</td>\n",
       "    </tr>\n",
       "    <tr>\n",
       "      <th>221</th>\n",
       "      <td>POLYGON ((990272.0775108952 216184.7838874962,...</td>\n",
       "      <td>10120</td>\n",
       "      <td>5204</td>\n",
       "    </tr>\n",
       "    <tr>\n",
       "      <th>217</th>\n",
       "      <td>POLYGON ((991430.0279508984 214615.6892566468,...</td>\n",
       "      <td>10123</td>\n",
       "      <td>4529</td>\n",
       "    </tr>\n",
       "    <tr>\n",
       "      <th>109</th>\n",
       "      <td>POLYGON ((983778.6016527266 216668.2704533249,...</td>\n",
       "      <td>11005</td>\n",
       "      <td>1995</td>\n",
       "    </tr>\n",
       "    <tr>\n",
       "      <th>82</th>\n",
       "      <td>POLYGON ((998309.7251494803 229616.8029551634,...</td>\n",
       "      <td>11359</td>\n",
       "      <td>1511</td>\n",
       "    </tr>\n",
       "    <tr>\n",
       "      <th>195</th>\n",
       "      <td>POLYGON ((981853.5251223163 198896.1212864088,...</td>\n",
       "      <td>10162</td>\n",
       "      <td>926</td>\n",
       "    </tr>\n",
       "    <tr>\n",
       "      <th>189</th>\n",
       "      <td>POLYGON ((1016691.780248808 146366.5301515709,...</td>\n",
       "      <td>10048</td>\n",
       "      <td>226</td>\n",
       "    </tr>\n",
       "    <tr>\n",
       "      <th>222</th>\n",
       "      <td>POLYGON ((981420.3107656386 197330.9830124802,...</td>\n",
       "      <td>10278</td>\n",
       "      <td>155</td>\n",
       "    </tr>\n",
       "  </tbody>\n",
       "</table>\n",
       "<p>218 rows × 3 columns</p>\n",
       "</div>"
      ],
      "text/plain": [
       "                                              geometry zip_code  \\\n",
       "125  POLYGON ((991606.4029262179 205494.2678669897,...    10013   \n",
       "112  POLYGON ((990440.5066359771 215405.07252041, 9...    10011   \n",
       "224  POLYGON ((989789.9823464747 214129.9389158244,...    10022   \n",
       "196  POLYGON ((990017.0947531497 213302.0045480751,...    10019   \n",
       "111  POLYGON ((1063551.44079439 216279.8217551664, ...    10001   \n",
       "140  POLYGON ((984793.7954884756 193856.001117324, ...    11201   \n",
       "113  POLYGON ((981958.6472873999 213464.5747609858,...    10016   \n",
       "119  POLYGON ((1029249.073703725 210099.9768314018,...    10003   \n",
       "86   POLYGON ((1012852.721653984 224540.6241311638,...    10023   \n",
       "103  POLYGON ((1022299.623363807 218704.0295051604,...    10036   \n",
       "225  POLYGON ((991566.3731506511 217337.2261364004,...    10065   \n",
       "105  POLYGON ((989419.2127468145 215672.2091252331,...    11101   \n",
       "78   POLYGON ((995501.6553063028 232971.2365349849,...    10025   \n",
       "124  POLYGON ((1005254.303451893 207255.2705785807,...    10012   \n",
       "73   POLYGON ((1002566.673984649 237849.9124731522,...    10024   \n",
       "118  POLYGON ((987645.3212814762 210360.0150252548,...    10014   \n",
       "110  POLYGON ((990566.3800718888 215633.3640585763,...    10017   \n",
       "20   POLYGON ((1039268.607142316 194809.9887106585,...    11221   \n",
       "93   POLYGON ((1004112.849041894 222330.6137874155,...    10021   \n",
       "152  POLYGON ((1037510.87279689 189654.0636550873, ...    11215   \n",
       "116  POLYGON ((1009231.627190144 213125.0744557395,...    10010   \n",
       "126  POLYGON ((985200.0558308054 205072.1414146567,...    11211   \n",
       "146  POLYGON ((971218.3702115574 190710.9801764148,...    11238   \n",
       "131  POLYGON ((1005293.447402472 199401.6520995006,...    11206   \n",
       "121  POLYGON ((989830.469142139 207048.2476986598, ...    10002   \n",
       "85   POLYGON ((1043330.529792728 227284.3601134837,...    10128   \n",
       "69   POLYGON ((1001899.622497229 238190.5321987485,...    10027   \n",
       "145  POLYGON ((977542.4500830675 188447.4000579148,...    11217   \n",
       "107  POLYGON ((1005731.928480893 215237.4327638347,...    10018   \n",
       "88   POLYGON ((1016073.073480983 222913.2697743229,...    10028   \n",
       "..                                                 ...      ...   \n",
       "203  POLYGON ((985956.6350263079 220918.4371498214,...    10169   \n",
       "218  POLYGON ((991907.6880848147 215231.6332347418,...    10106   \n",
       "200  POLYGON ((987926.2580555688 212001.5622670798,...    10107   \n",
       "208  POLYGON ((988962.5394475643 218460.127105815, ...    10271   \n",
       "223  POLYGON ((989343.296888142 213959.89332415, 98...    10155   \n",
       "115  POLYGON ((989286.3435899728 213322.9014879055,...    11109   \n",
       "191  POLYGON ((925030.2516299799 142864.5617618235,...    10055   \n",
       "204  POLYGON ((990220.1635727314 215825.307572327, ...    10167   \n",
       "199  POLYGON ((989999.9983306424 217195.8973508195,...    10122   \n",
       "190  POLYGON ((928850.452979056 143511.5247067385, ...    10168   \n",
       "209  POLYGON ((990555.1740575634 216367.0571449874,...    10110   \n",
       "219  POLYGON ((992153.6062281459 215616.3864022448,...    10158   \n",
       "202  POLYGON ((997731.7610823072 219561.043867246, ...    10174   \n",
       "210  POLYGON ((991763.3970348104 217664.1611780709,...    10175   \n",
       "215  POLYGON ((990802.5098489865 214345.0864514129,...    10121   \n",
       "155  POLYGON ((1030470.016471818 182247.8652129022,...    11430   \n",
       "211  POLYGON ((990971.7611508979 213125.6889558294,...    10151   \n",
       "216  POLYGON ((991485.369375649 214481.9857839076, ...    10115   \n",
       "206  POLYGON ((991802.2414453197 215098.6000362347,...    10172   \n",
       "205  POLYGON ((990812.4307608956 213435.2585466548,...    10177   \n",
       "213  POLYGON ((990707.7528206414 214185.7098016637,...    10178   \n",
       "212  POLYGON ((990521.529439804 213759.0603924991, ...    10173   \n",
       "194  POLYGON ((980255.079828394 198311.1155666655, ...    10176   \n",
       "221  POLYGON ((990272.0775108952 216184.7838874962,...    10120   \n",
       "217  POLYGON ((991430.0279508984 214615.6892566468,...    10123   \n",
       "109  POLYGON ((983778.6016527266 216668.2704533249,...    11005   \n",
       "82   POLYGON ((998309.7251494803 229616.8029551634,...    11359   \n",
       "195  POLYGON ((981853.5251223163 198896.1212864088,...    10162   \n",
       "189  POLYGON ((1016691.780248808 146366.5301515709,...    10048   \n",
       "222  POLYGON ((981420.3107656386 197330.9830124802,...    10278   \n",
       "\n",
       "     total_impact_days  \n",
       "125            1693239  \n",
       "112            1654263  \n",
       "224            1622561  \n",
       "196            1596954  \n",
       "111            1526615  \n",
       "140            1502890  \n",
       "113            1410318  \n",
       "119            1338875  \n",
       "86             1271131  \n",
       "103            1232341  \n",
       "225            1150449  \n",
       "105            1102441  \n",
       "78             1093561  \n",
       "124            1062410  \n",
       "73             1040448  \n",
       "118            1038585  \n",
       "110            1036213  \n",
       "20              998803  \n",
       "93              967220  \n",
       "152             964082  \n",
       "116             958036  \n",
       "126             892848  \n",
       "146             885597  \n",
       "131             869828  \n",
       "121             831002  \n",
       "85              830233  \n",
       "69              800744  \n",
       "145             779609  \n",
       "107             750069  \n",
       "88              736057  \n",
       "..                 ...  \n",
       "203              21576  \n",
       "218              21156  \n",
       "200              19532  \n",
       "208              19476  \n",
       "223              19041  \n",
       "115              19015  \n",
       "191              18957  \n",
       "204              18697  \n",
       "199              17777  \n",
       "190              16025  \n",
       "209              15434  \n",
       "219              14166  \n",
       "202              12724  \n",
       "210              12661  \n",
       "215               9760  \n",
       "155               9278  \n",
       "211               9107  \n",
       "216               8781  \n",
       "206               8631  \n",
       "205               8310  \n",
       "213               7730  \n",
       "212               6862  \n",
       "194               5831  \n",
       "221               5204  \n",
       "217               4529  \n",
       "109               1995  \n",
       "82                1511  \n",
       "195                926  \n",
       "189                226  \n",
       "222                155  \n",
       "\n",
       "[218 rows x 3 columns]"
      ]
     },
     "execution_count": 40,
     "metadata": {},
     "output_type": "execute_result"
    }
   ],
   "source": [
    "mapData = mapData.sort_values(by=['total_impact_days'], ascending=False)\n",
    "mapData"
   ]
  },
  {
   "cell_type": "code",
   "execution_count": 41,
   "metadata": {},
   "outputs": [
    {
     "data": {
      "text/plain": [
       "count    2.180000e+02\n",
       "mean     3.543626e+05\n",
       "std      3.675950e+05\n",
       "min      1.550000e+02\n",
       "25%      1.031355e+05\n",
       "50%      2.500565e+05\n",
       "75%      4.503508e+05\n",
       "max      1.693239e+06\n",
       "Name: total_impact_days, dtype: float64"
      ]
     },
     "execution_count": 41,
     "metadata": {},
     "output_type": "execute_result"
    }
   ],
   "source": [
    "mapData['total_impact_days'].describe()"
   ]
  },
  {
   "cell_type": "code",
   "execution_count": 38,
   "metadata": {},
   "outputs": [
    {
     "data": {
      "image/png": "[encoded data removed]",
      "text/plain": [
       "<matplotlib.figure.Figure at 0x11b636a90>"
      ]
     },
     "metadata": {},
     "output_type": "display_data"
    }
   ],
   "source": [
    "name = 'total_impact_days'\n",
    "ax = mapData.plot(column='{}'.format(name), cmap='BuPu', alpha=1)\n",
    "vmin, vmax = min(mapData['{}'.format(name)].values), max(mapData['{}'.format(name)].values)\n",
    "ax.axis('off')\n",
    "ax.set_title('Choropleth of {}'.format(name), size=20)\n",
    "fig = ax.get_figure()\n",
    "cax = fig.add_axes([0.9, 0.1, 0.03, 0.8])\n",
    "sm = plt.cm.ScalarMappable(cmap='BuPu', norm=plt.Normalize(vmin=vmin, vmax=vmax))\n",
    "sm._A = []\n",
    "fig.colorbar(sm, cax=cax)\n",
    "plt.savefig('DOB_total_impact_days', dpi=300, transparent=True)\n",
    "plt.show()"
   ]
  },
  {
   "cell_type": "code",
   "execution_count": null,
   "metadata": {},
   "outputs": [],
   "source": []
  },
  {
   "cell_type": "code",
   "execution_count": null,
   "metadata": {},
   "outputs": [],
   "source": []
  }
 ],
 "metadata": {
  "kernelspec": {
   "display_name": "Python 3",
   "language": "python",
   "name": "python3"
  },
  "language_info": {
   "codemirror_mode": {
    "name": "ipython",
    "version": 3
   },
   "file_extension": ".py",
   "mimetype": "text/x-python",
   "name": "python",
   "nbconvert_exporter": "python",
   "pygments_lexer": "ipython3",
   "version": "3.6.1"
  }
 },
 "nbformat": 4,
 "nbformat_minor": 2
}
